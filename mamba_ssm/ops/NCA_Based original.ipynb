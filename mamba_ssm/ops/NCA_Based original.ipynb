{
 "cells": [
  {
   "cell_type": "code",
   "execution_count": 1,
   "id": "c84d239c-e0fa-4745-9b32-aba6c455cfd8",
   "metadata": {},
   "outputs": [
    {
     "name": "stderr",
     "output_type": "stream",
     "text": [
      "/home/amli/miniconda3/envs/tgmamba/lib/python3.12/site-packages/tqdm/auto.py:21: TqdmWarning: IProgress not found. Please update jupyter and ipywidgets. See https://ipywidgets.readthedocs.io/en/stable/user_install.html\n",
      "  from .autonotebook import tqdm as notebook_tqdm\n"
     ]
    },
    {
     "ename": "AttributeError",
     "evalue": "module 'triton' has no attribute 'language'",
     "output_type": "error",
     "traceback": [
      "\u001b[0;31m---------------------------------------------------------------------------\u001b[0m",
      "\u001b[0;31mAttributeError\u001b[0m                            Traceback (most recent call last)",
      "Cell \u001b[0;32mIn[1], line 19\u001b[0m\n\u001b[1;32m     14\u001b[0m \u001b[38;5;28;01mfrom\u001b[39;00m \u001b[38;5;21;01mtorch\u001b[39;00m\u001b[38;5;21;01m.\u001b[39;00m\u001b[38;5;21;01mnn\u001b[39;00m \u001b[38;5;28;01mimport\u001b[39;00m Linear\n\u001b[1;32m     16\u001b[0m \u001b[38;5;66;03m# import wandb\u001b[39;00m\n\u001b[1;32m     17\u001b[0m \u001b[38;5;66;03m# import lightning as L\u001b[39;00m\n\u001b[0;32m---> 19\u001b[0m \u001b[38;5;28;01mfrom\u001b[39;00m \u001b[38;5;21;01mtorch_geometric\u001b[39;00m\u001b[38;5;21;01m.\u001b[39;00m\u001b[38;5;21;01mnn\u001b[39;00m \u001b[38;5;28;01mimport\u001b[39;00m GraphConv \n\u001b[1;32m     20\u001b[0m \u001b[38;5;28;01mfrom\u001b[39;00m \u001b[38;5;21;01mtorch_geometric\u001b[39;00m\u001b[38;5;21;01m.\u001b[39;00m\u001b[38;5;21;01mnn\u001b[39;00m \u001b[38;5;28;01mimport\u001b[39;00m GCNConv, ChebConv\n\u001b[1;32m     21\u001b[0m \u001b[38;5;28;01mfrom\u001b[39;00m \u001b[38;5;21;01mtorch_geometric\u001b[39;00m\u001b[38;5;21;01m.\u001b[39;00m\u001b[38;5;21;01mnn\u001b[39;00m \u001b[38;5;28;01mimport\u001b[39;00m global_mean_pool, global_max_pool\n",
      "File \u001b[0;32m~/miniconda3/envs/tgmamba/lib/python3.12/site-packages/torch_geometric/__init__.py:5\u001b[0m\n\u001b[1;32m      3\u001b[0m \u001b[38;5;28;01mfrom\u001b[39;00m \u001b[38;5;21;01m.\u001b[39;00m\u001b[38;5;21;01mseed\u001b[39;00m \u001b[38;5;28;01mimport\u001b[39;00m seed_everything\n\u001b[1;32m      4\u001b[0m \u001b[38;5;28;01mfrom\u001b[39;00m \u001b[38;5;21;01m.\u001b[39;00m\u001b[38;5;21;01mhome\u001b[39;00m \u001b[38;5;28;01mimport\u001b[39;00m get_home_dir, set_home_dir\n\u001b[0;32m----> 5\u001b[0m \u001b[38;5;28;01mfrom\u001b[39;00m \u001b[38;5;21;01m.\u001b[39;00m\u001b[38;5;21;01misinstance\u001b[39;00m \u001b[38;5;28;01mimport\u001b[39;00m is_torch_instance\n\u001b[1;32m      6\u001b[0m \u001b[38;5;28;01mfrom\u001b[39;00m \u001b[38;5;21;01m.\u001b[39;00m\u001b[38;5;21;01mdebug\u001b[39;00m \u001b[38;5;28;01mimport\u001b[39;00m is_debug_enabled, debug, set_debug\n\u001b[1;32m      8\u001b[0m \u001b[38;5;28;01mimport\u001b[39;00m \u001b[38;5;21;01mtorch_geometric\u001b[39;00m\u001b[38;5;21;01m.\u001b[39;00m\u001b[38;5;21;01mutils\u001b[39;00m\n",
      "File \u001b[0;32m~/miniconda3/envs/tgmamba/lib/python3.12/site-packages/torch_geometric/isinstance.py:8\u001b[0m\n\u001b[1;32m      5\u001b[0m \u001b[38;5;28;01mimport\u001b[39;00m \u001b[38;5;21;01mtorch_geometric\u001b[39;00m\u001b[38;5;21;01m.\u001b[39;00m\u001b[38;5;21;01mtyping\u001b[39;00m\n\u001b[1;32m      7\u001b[0m \u001b[38;5;28;01mif\u001b[39;00m torch_geometric\u001b[38;5;241m.\u001b[39mtyping\u001b[38;5;241m.\u001b[39mWITH_PT20:\n\u001b[0;32m----> 8\u001b[0m     \u001b[38;5;28;01mimport\u001b[39;00m \u001b[38;5;21;01mtorch\u001b[39;00m\u001b[38;5;21;01m.\u001b[39;00m\u001b[38;5;21;01m_dynamo\u001b[39;00m\n\u001b[1;32m     11\u001b[0m \u001b[38;5;28;01mdef\u001b[39;00m \u001b[38;5;21mis_torch_instance\u001b[39m(obj: Any, \u001b[38;5;28mcls\u001b[39m: Union[Type, Tuple[Type]]) \u001b[38;5;241m-\u001b[39m\u001b[38;5;241m>\u001b[39m \u001b[38;5;28mbool\u001b[39m:\n\u001b[1;32m     12\u001b[0m \u001b[38;5;250m    \u001b[39m\u001b[38;5;124mr\u001b[39m\u001b[38;5;124;03m\"\"\"Checks if the :obj:`obj` is an instance of a :obj:`cls`.\u001b[39;00m\n\u001b[1;32m     13\u001b[0m \n\u001b[1;32m     14\u001b[0m \u001b[38;5;124;03m    This function extends :meth:`isinstance` to be applicable during\u001b[39;00m\n\u001b[1;32m     15\u001b[0m \u001b[38;5;124;03m    :meth:`torch.compile` usage by checking against the original class of\u001b[39;00m\n\u001b[1;32m     16\u001b[0m \u001b[38;5;124;03m    compiled models.\u001b[39;00m\n\u001b[1;32m     17\u001b[0m \u001b[38;5;124;03m    \"\"\"\u001b[39;00m\n",
      "File \u001b[0;32m~/miniconda3/envs/tgmamba/lib/python3.12/site-packages/torch/_dynamo/__init__.py:2\u001b[0m\n\u001b[1;32m      1\u001b[0m \u001b[38;5;28;01mimport\u001b[39;00m \u001b[38;5;21;01mtorch\u001b[39;00m\n\u001b[0;32m----> 2\u001b[0m \u001b[38;5;28;01mfrom\u001b[39;00m \u001b[38;5;21;01m.\u001b[39;00m \u001b[38;5;28;01mimport\u001b[39;00m convert_frame, eval_frame, resume_execution\n\u001b[1;32m      3\u001b[0m \u001b[38;5;28;01mfrom\u001b[39;00m \u001b[38;5;21;01m.\u001b[39;00m\u001b[38;5;21;01mbackends\u001b[39;00m\u001b[38;5;21;01m.\u001b[39;00m\u001b[38;5;21;01mregistry\u001b[39;00m \u001b[38;5;28;01mimport\u001b[39;00m list_backends, lookup_backend, register_backend\n\u001b[1;32m      4\u001b[0m \u001b[38;5;28;01mfrom\u001b[39;00m \u001b[38;5;21;01m.\u001b[39;00m\u001b[38;5;21;01mcallback\u001b[39;00m \u001b[38;5;28;01mimport\u001b[39;00m callback_handler, on_compile_end, on_compile_start\n",
      "File \u001b[0;32m~/miniconda3/envs/tgmamba/lib/python3.12/site-packages/torch/_dynamo/convert_frame.py:48\u001b[0m\n\u001b[1;32m     45\u001b[0m \u001b[38;5;28;01mfrom\u001b[39;00m \u001b[38;5;21;01mtorch\u001b[39;00m\u001b[38;5;21;01m.\u001b[39;00m\u001b[38;5;21;01mutils\u001b[39;00m\u001b[38;5;21;01m.\u001b[39;00m\u001b[38;5;21;01m_python_dispatch\u001b[39;00m \u001b[38;5;28;01mimport\u001b[39;00m _disable_current_modes\n\u001b[1;32m     46\u001b[0m \u001b[38;5;28;01mfrom\u001b[39;00m \u001b[38;5;21;01mtorch\u001b[39;00m\u001b[38;5;21;01m.\u001b[39;00m\u001b[38;5;21;01mutils\u001b[39;00m\u001b[38;5;21;01m.\u001b[39;00m\u001b[38;5;21;01m_traceback\u001b[39;00m \u001b[38;5;28;01mimport\u001b[39;00m format_traceback_short\n\u001b[0;32m---> 48\u001b[0m \u001b[38;5;28;01mfrom\u001b[39;00m \u001b[38;5;21;01m.\u001b[39;00m \u001b[38;5;28;01mimport\u001b[39;00m config, exc, trace_rules\n\u001b[1;32m     49\u001b[0m \u001b[38;5;28;01mfrom\u001b[39;00m \u001b[38;5;21;01m.\u001b[39;00m\u001b[38;5;21;01mbackends\u001b[39;00m\u001b[38;5;21;01m.\u001b[39;00m\u001b[38;5;21;01mregistry\u001b[39;00m \u001b[38;5;28;01mimport\u001b[39;00m CompilerFn\n\u001b[1;32m     50\u001b[0m \u001b[38;5;28;01mfrom\u001b[39;00m \u001b[38;5;21;01m.\u001b[39;00m\u001b[38;5;21;01mbytecode_analysis\u001b[39;00m \u001b[38;5;28;01mimport\u001b[39;00m remove_dead_code, remove_pointless_jumps\n",
      "File \u001b[0;32m~/miniconda3/envs/tgmamba/lib/python3.12/site-packages/torch/_dynamo/exc.py:12\u001b[0m\n\u001b[1;32m      8\u001b[0m \u001b[38;5;28;01mimport\u001b[39;00m \u001b[38;5;21;01mtorch\u001b[39;00m\u001b[38;5;21;01m.\u001b[39;00m\u001b[38;5;21;01m_guards\u001b[39;00m\n\u001b[1;32m     10\u001b[0m \u001b[38;5;28;01mfrom\u001b[39;00m \u001b[38;5;21;01m.\u001b[39;00m \u001b[38;5;28;01mimport\u001b[39;00m config\n\u001b[0;32m---> 12\u001b[0m \u001b[38;5;28;01mfrom\u001b[39;00m \u001b[38;5;21;01m.\u001b[39;00m\u001b[38;5;21;01mutils\u001b[39;00m \u001b[38;5;28;01mimport\u001b[39;00m counters\n\u001b[1;32m     15\u001b[0m \u001b[38;5;28;01mdef\u001b[39;00m \u001b[38;5;21mexportdb_error_message\u001b[39m(case_name):\n\u001b[1;32m     16\u001b[0m     \u001b[38;5;28;01mreturn\u001b[39;00m (\n\u001b[1;32m     17\u001b[0m         \u001b[38;5;124m\"\u001b[39m\u001b[38;5;124mFor more information about this error, see: \u001b[39m\u001b[38;5;124m\"\u001b[39m\n\u001b[1;32m     18\u001b[0m         \u001b[38;5;241m+\u001b[39m \u001b[38;5;124m\"\u001b[39m\u001b[38;5;124mhttps://pytorch.org/docs/main/generated/exportdb/index.html#\u001b[39m\u001b[38;5;124m\"\u001b[39m\n\u001b[1;32m     19\u001b[0m         \u001b[38;5;241m+\u001b[39m case_name\u001b[38;5;241m.\u001b[39mreplace(\u001b[38;5;124m\"\u001b[39m\u001b[38;5;124m_\u001b[39m\u001b[38;5;124m\"\u001b[39m, \u001b[38;5;124m\"\u001b[39m\u001b[38;5;124m-\u001b[39m\u001b[38;5;124m\"\u001b[39m)\n\u001b[1;32m     20\u001b[0m     )\n",
      "File \u001b[0;32m~/miniconda3/envs/tgmamba/lib/python3.12/site-packages/torch/_dynamo/utils.py:1066\u001b[0m\n\u001b[1;32m   1063\u001b[0m \u001b[38;5;28;01mif\u001b[39;00m has_triton_package():\n\u001b[1;32m   1064\u001b[0m     \u001b[38;5;28;01mimport\u001b[39;00m \u001b[38;5;21;01mtriton\u001b[39;00m\n\u001b[0;32m-> 1066\u001b[0m     common_constant_types\u001b[38;5;241m.\u001b[39madd(\u001b[43mtriton\u001b[49m\u001b[38;5;241;43m.\u001b[39;49m\u001b[43mlanguage\u001b[49m\u001b[38;5;241m.\u001b[39mdtype)\n\u001b[1;32m   1069\u001b[0m \u001b[38;5;28;01mdef\u001b[39;00m \u001b[38;5;21mis_safe_constant\u001b[39m(v):\n\u001b[1;32m   1070\u001b[0m     \u001b[38;5;28;01mif\u001b[39;00m istype(v, (\u001b[38;5;28mtuple\u001b[39m, \u001b[38;5;28mfrozenset\u001b[39m)):\n",
      "\u001b[0;31mAttributeError\u001b[0m: module 'triton' has no attribute 'language'"
     ]
    }
   ],
   "source": [
    "import torch\n",
    "import numpy as np\n",
    "from tqdm import tqdm\n",
    "import h5py\n",
    "\n",
    "from torchmetrics import AUROC\n",
    "\n",
    "import torch.nn.functional as F\n",
    "import scipy.io as sio\n",
    "\n",
    "\n",
    "import torch.optim as optim\n",
    "from torch.optim.lr_scheduler import CosineAnnealingLR\n",
    "from torch.nn import Linear\n",
    "\n",
    "# import wandb\n",
    "# import lightning as L\n",
    "\n",
    "from torch_geometric.nn import GraphConv \n",
    "from torch_geometric.nn import GCNConv, ChebConv\n",
    "from torch_geometric.nn import global_mean_pool, global_max_pool\n",
    "from torch_geometric.data import Data, Dataset\n",
    "from torch_geometric.loader import DataLoader\n",
    "from torch_geometric.utils import to_dense_adj, dense_to_sparse\n",
    "from torch_geometric.nn.conv import MessagePassing"
   ]
  },
  {
   "cell_type": "code",
   "execution_count": 2,
   "id": "729567e4-1d2f-4784-a104-013b88389421",
   "metadata": {},
   "outputs": [
    {
     "name": "stdout",
     "output_type": "stream",
     "text": [
      "[[ 0  0  0  0  1  1  1  1  2  2  2  2  3  3  3  3  4  4  4  4  5  5  5  5\n",
      "   6  6  6  6  7  7  7  7  8  8  8  8  9  9  9  9 10 10 10 11 11 11 12 12\n",
      "  12 13 13 13 14 14 14 15 15 15 16 16 16 16 16 17 17 17 17 18 18 18 18 18]\n",
      " [ 1  2 10 16  0  3 11 16  0  4 10 16  1  5 11 16  2  6 12 17  3  7 13 17\n",
      "   4  8 14 18  5  9 15 18  6  9 14 18  7  8 15 18  0  2 12  1  3 13  4 10\n",
      "  14  5 11 15  6  8 12  7  9 13  0  1  2  3 17  4  5 16 18  6  7  8  9 17]]\n"
     ]
    }
   ],
   "source": [
    "# Load adjacency matrix\n",
    "adj = sio.loadmat('/home/data_shared/adj_mat.mat')['adj_mat']\n",
    "\n",
    "# Create edge index and edge weight from adjacency matrix\n",
    "ind = (adj != 0) & (adj != 1)\n",
    "edge_index = np.argwhere(ind == True).T \n",
    "edge_weight = np.zeros((1, edge_index.shape[1]))\n",
    "\n",
    "for i, e in enumerate(edge_index.T):  \n",
    "    edge_weight[0, i] = adj[e[0], e[1]]\n",
    "        \n",
    "print(edge_index)\n",
    "edge_index = torch.tensor(edge_index, dtype=torch.long)\n",
    "edge_weight = torch.tensor(edge_weight, dtype=torch.float)\n",
    "\n",
    "# Load electrode positions\n",
    "pos = sio.loadmat('/home/data_shared/position.mat')['pos'].T"
   ]
  },
  {
   "cell_type": "code",
   "execution_count": 3,
   "id": "66c002fa",
   "metadata": {},
   "outputs": [
    {
     "name": "stdout",
     "output_type": "stream",
     "text": [
      "(38497, 10, 19, 200)\n"
     ]
    }
   ],
   "source": [
    "# Load EEG data and labels\n",
    "with h5py.File('/home/data_shared/clip_data.h5', \"r\") as f:\n",
    "    EEG = np.array(f[list(f.keys())[0]])\n",
    "\n",
    "with h5py.File('/home/data_shared/label.h5', \"r\") as f: \n",
    "    Label = np.array(f[list(f.keys())[0]])\n",
    "print(EEG.shape)"
   ]
  },
  {
   "cell_type": "markdown",
   "id": "02c0ad59",
   "metadata": {},
   "source": [
    "The EEG data looks like (N, C, T, F), where:\n",
    "\n",
    "- N: Number of samples or trials = 30000\n",
    "- C: Number of channels (electrodes i.e. nodes in the graph) = 19\n",
    "- T: Number of time points = 10\n",
    "- F: Number of features or frequency bins (node features) = 200. After the FFT is applied, each node (electrode) has a set of features that represent its frequency-domain characteristics.\n",
    "\n",
    "We can also think of it as (batchsize, V, seqlen, d_features)"
   ]
  },
  {
   "cell_type": "code",
   "execution_count": 4,
   "id": "ac6c4ad8-f46a-4f56-b44b-9323733cf722",
   "metadata": {},
   "outputs": [
    {
     "name": "stdout",
     "output_type": "stream",
     "text": [
      "(38497, 19, 10, 200)\n",
      "(38497,)\n"
     ]
    }
   ],
   "source": [
    "# Load EEG data and labels\n",
    "with h5py.File('/home/data_shared/clip_data.h5', \"r\") as f:\n",
    "    EEG = np.array(f[list(f.keys())[0]])\n",
    "\n",
    "with h5py.File('/home/data_shared/label.h5', \"r\") as f: \n",
    "    Label = np.array(f[list(f.keys())[0]])\n",
    "\n",
    "EEG = np.transpose(EEG, axes=(0, 2, 1, 3))\n",
    "print(EEG.shape)\n",
    "print(Label.shape)"
   ]
  },
  {
   "cell_type": "code",
   "execution_count": 5,
   "id": "24713ce1-5bc4-4a76-a02e-7a5e39114b3d",
   "metadata": {},
   "outputs": [
    {
     "name": "stderr",
     "output_type": "stream",
     "text": [
      "  0%|          | 0/38497 [00:00<?, ?it/s]"
     ]
    },
    {
     "name": "stderr",
     "output_type": "stream",
     "text": [
      "100%|██████████| 38497/38497 [00:25<00:00, 1527.74it/s]\n"
     ]
    }
   ],
   "source": [
    "# prepare the dataset\n",
    "dataset = []\n",
    "batch = np.ones((1,19))\n",
    "from scipy.fft import fft\n",
    "is_fft = True\n",
    "\n",
    "for idx in tqdm(range(EEG.shape[0])):\n",
    "    \n",
    "    eeg_clip = EEG[idx,:,:,:]\n",
    "    \n",
    "    if is_fft:\n",
    "        # Here, the FFT is applied along axis 2 (the time dimension), \n",
    "        # and then the first 100 frequency bins are kept. \n",
    "        # This transforms the time-domain signal into frequency-domain features for each electrode.\n",
    "        eeg_clip = np.log(np.abs( fft(eeg_clip,axis=2)[:,:,0:100]) +1e-30) # Just real part might also be useful\n",
    "        \n",
    "    label = Label[idx]\n",
    "    \n",
    "    # Create Data object for each sample.\n",
    "\n",
    "    # The eeg_clip is transposed so that it has shape (C, F), where\n",
    "    # C is the number of channels (nodes)  \n",
    "    # F is the number of frequency features per node.\n",
    "    dataset.append(Data(x = torch.tensor(eeg_clip).transpose(1,0) , \n",
    "                    y = torch.tensor((label)  , dtype=torch.long) , batch = batch  , \n",
    "                    edge_weight = edge_weight , edge_index = edge_index , elec_pos = torch.tensor(pos) )  \n",
    ")\n",
    "    \n",
    "    \n",
    "del Label, EEG  # Free up memory"
   ]
  },
  {
   "cell_type": "code",
   "execution_count": 6,
   "id": "d86fa595-c9d4-4d75-9727-91e43a30bf53",
   "metadata": {},
   "outputs": [],
   "source": [
    "train_idx = [0 , int(0.75*len(dataset))]\n",
    "test_idx = [int(0.75*len(dataset)) , len(dataset)]\n",
    "\n",
    "train_dataloader = DataLoader(dataset[train_idx[0]:train_idx[1]] , batch_size = 1024  )\n",
    "test_dataloader = DataLoader(dataset[test_idx[0]:test_idx[1]] , batch_size = 1024   )"
   ]
  },
  {
   "cell_type": "code",
   "execution_count": 9,
   "id": "955ddd18-c0c9-49f3-b55b-ed734bb1fcb2",
   "metadata": {},
   "outputs": [],
   "source": [
    "# Define the model\n",
    "class LitNCA_EEG(L.LightningModule):\n",
    "    def __init__(self, fire_rate, conv_type):\n",
    "        super(LitNCA_EEG, self).__init__()\n",
    "        self.fire_rate = fire_rate  # probability determining how often neurons are updated.\n",
    "        self.conv_type = conv_type  # gconv or chebconv\n",
    "        \n",
    "        self.l1 = Linear(100, 32, bias=False)   # from 100 feats to 32 features\n",
    "        self.l2 = Linear(32, 32)    # 32 to 32 features\n",
    "\n",
    "        if self.conv_type == 'gconv':\n",
    "            self.gc1 = GraphConv(32, 32)\n",
    "            self.gc2 = GraphConv(32, 32)\n",
    "        elif self.conv_type == 'chebconv':\n",
    "            self.gc1 = ChebConv(32, 32, 2)\n",
    "            self.gc2 = ChebConv(32, 32, 2)\n",
    "            \n",
    "        self.fc = torch.nn.Linear(32, 1)\n",
    "        torch.set_float32_matmul_precision('high')\n",
    "\n",
    "    def update(self, x_t, edge_index, edge_weight, s_t, fire_rate):\n",
    "        # just take 100-dim input and map to 32-dim\n",
    "        if s_t is None:\n",
    "            s_t = self.l1(x_t)      \n",
    "        else:   # 100 -> 32 + 32 -> 32\n",
    "            s_t = self.l1(x_t) + self.l2(s_t)\n",
    "\n",
    "        if self.conv_type == 'gconv':\n",
    "            ds = self.gc1(s_t, edge_index, edge_weight.float())\n",
    "            ds = ds.relu()\n",
    "            ds = self.gc2(ds, edge_index, edge_weight.float())\n",
    "        elif self.conv_type == 'chebconv':\n",
    "            ds = self.gc1(s_t, edge_index)\n",
    "            ds = ds.relu()\n",
    "            ds = self.gc2(ds, edge_index)\n",
    "\n",
    "        # Apply fire rate\n",
    "        update_mask = torch.rand(ds.size()).float().cuda() <= fire_rate\n",
    "        ds *= update_mask\n",
    "        s_t = s_t + ds\n",
    "        \n",
    "        return s_t \n",
    "\n",
    "    def forward(self, data):\n",
    "        # Normalize input data\n",
    "        clip = (data.x.float() - data.x.float().mean(2, keepdim=True)) / (data.x.float().std(2, keepdim=True) + 1e-10)\n",
    "        \n",
    "        s_t = None\n",
    "        # iterate through the time steps\n",
    "        for t in range(10):\n",
    "            N = int(torch.randint(1, 11, (1,)))\n",
    "            # perform random number of update steps\n",
    "            for i in range(N):\n",
    "                x_t = clip[:, t, :].float()\n",
    "                s_t = self.update(x_t, data.edge_index, data.edge_weight, s_t, fire_rate=self.fire_rate)\n",
    "        \n",
    "        # apply fully connected linear layer from 32 features to 1 output\n",
    "        return self.fc(s_t)\n",
    "\n",
    "    def training_step(self, data, batch_idx):\n",
    "        # print(\"Shape:\", data.x.shape)\n",
    "        # print(\"Batch size:\", data.x.shape[0])\n",
    "        # print(\"Number of nodes:\", data.x.shape[1])\n",
    "        # print(\"Time steps:\", data.x.shape[2])\n",
    "        s = self(data) \n",
    "        out = global_mean_pool(s, data.batch)\n",
    "        loss = F.mse_loss(torch.sigmoid(out.reshape(-1, 1)), data.y.type(torch.float32).reshape(-1, 1))\n",
    "        return loss\n",
    "\n",
    "    def configure_optimizers(self):\n",
    "        optimizer = optim.Adam(params=self.parameters(), lr=5e-4)\n",
    "        scheduler = torch.optim.lr_scheduler.MultiStepLR(optimizer, [1000, 2000], 0.3)\n",
    "        return [optimizer], [{\"scheduler\": scheduler, \"interval\": \"epoch\"}]\n",
    "\n",
    "# Initialize model\n",
    "model = LitNCA_EEG(fire_rate=0.5, conv_type='gconv')"
   ]
  },
  {
   "cell_type": "code",
   "execution_count": 8,
   "id": "2ff3c966-7bf1-4572-bd2a-3addd2dd8c36",
   "metadata": {},
   "outputs": [
    {
     "name": "stderr",
     "output_type": "stream",
     "text": [
      "Failed to detect the name of this notebook, you can set it manually with the WANDB_NOTEBOOK_NAME environment variable to enable code saving.\n",
      "\u001b[34m\u001b[1mwandb\u001b[0m: Currently logged in as: \u001b[33mliaidan\u001b[0m. Use \u001b[1m`wandb login --relogin`\u001b[0m to force relogin\n"
     ]
    },
    {
     "data": {
      "text/html": [
       "wandb version 0.17.5 is available!  To upgrade, please run:\n",
       " $ pip install wandb --upgrade"
      ],
      "text/plain": [
       "<IPython.core.display.HTML object>"
      ]
     },
     "metadata": {},
     "output_type": "display_data"
    },
    {
     "data": {
      "text/html": [
       "Tracking run with wandb version 0.16.6"
      ],
      "text/plain": [
       "<IPython.core.display.HTML object>"
      ]
     },
     "metadata": {},
     "output_type": "display_data"
    },
    {
     "data": {
      "text/html": [
       "Run data is saved locally in <code>/home/amli/TGMamba/mamba_ssm/ops/wandb/run-20240724_122848-vt4mvehn</code>"
      ],
      "text/plain": [
       "<IPython.core.display.HTML object>"
      ]
     },
     "metadata": {},
     "output_type": "display_data"
    },
    {
     "data": {
      "text/html": [
       "Syncing run <strong><a href='https://wandb.ai/liaidan/TGMamba-mamba_ssm_ops/runs/vt4mvehn' target=\"_blank\">sage-dragon-1</a></strong> to <a href='https://wandb.ai/liaidan/TGMamba-mamba_ssm_ops' target=\"_blank\">Weights & Biases</a> (<a href='https://wandb.me/run' target=\"_blank\">docs</a>)<br/>"
      ],
      "text/plain": [
       "<IPython.core.display.HTML object>"
      ]
     },
     "metadata": {},
     "output_type": "display_data"
    },
    {
     "data": {
      "text/html": [
       " View project at <a href='https://wandb.ai/liaidan/TGMamba-mamba_ssm_ops' target=\"_blank\">https://wandb.ai/liaidan/TGMamba-mamba_ssm_ops</a>"
      ],
      "text/plain": [
       "<IPython.core.display.HTML object>"
      ]
     },
     "metadata": {},
     "output_type": "display_data"
    },
    {
     "data": {
      "text/html": [
       " View run at <a href='https://wandb.ai/liaidan/TGMamba-mamba_ssm_ops/runs/vt4mvehn' target=\"_blank\">https://wandb.ai/liaidan/TGMamba-mamba_ssm_ops/runs/vt4mvehn</a>"
      ],
      "text/plain": [
       "<IPython.core.display.HTML object>"
      ]
     },
     "metadata": {},
     "output_type": "display_data"
    }
   ],
   "source": [
    "from pytorch_lightning.loggers import WandbLogger\n",
    "\n",
    "wandb.login()\n",
    "wandb.init()\n",
    "\n",
    "wandb_logger = WandbLogger()\n"
   ]
  },
  {
   "cell_type": "markdown",
   "id": "6bb7d887",
   "metadata": {},
   "source": [
    "# Train the model"
   ]
  },
  {
   "cell_type": "code",
   "execution_count": 10,
   "id": "ee37396d",
   "metadata": {},
   "outputs": [
    {
     "name": "stderr",
     "output_type": "stream",
     "text": [
      "Using bfloat16 Automatic Mixed Precision (AMP)\n",
      "GPU available: True (cuda), used: True\n",
      "TPU available: False, using: 0 TPU cores\n",
      "HPU available: False, using: 0 HPUs\n",
      "Initializing distributed: GLOBAL_RANK: 0, MEMBER: 1/3\n",
      "Initializing distributed: GLOBAL_RANK: 2, MEMBER: 3/3\n",
      "Initializing distributed: GLOBAL_RANK: 1, MEMBER: 2/3\n",
      "----------------------------------------------------------------------------------------------------\n",
      "distributed_backend=nccl\n",
      "All distributed processes registered. Starting with 3 processes\n",
      "----------------------------------------------------------------------------------------------------\n",
      "\n",
      "LOCAL_RANK: 1 - CUDA_VISIBLE_DEVICES: [0,1,2,3,4,5,6,7]\n",
      "LOCAL_RANK: 2 - CUDA_VISIBLE_DEVICES: [0,1,2,3,4,5,6,7]\n",
      "LOCAL_RANK: 0 - CUDA_VISIBLE_DEVICES: [0,1,2,3,4,5,6,7]\n",
      "\n",
      "  | Name | Type      | Params | Mode \n",
      "-------------------------------------------\n",
      "0 | l1   | Linear    | 3.2 K  | train\n",
      "1 | l2   | Linear    | 1.1 K  | train\n",
      "2 | gc1  | GraphConv | 2.1 K  | train\n",
      "3 | gc2  | GraphConv | 2.1 K  | train\n",
      "4 | fc   | Linear    | 33     | train\n",
      "-------------------------------------------\n",
      "8.4 K     Trainable params\n",
      "0         Non-trainable params\n",
      "8.4 K     Total params\n",
      "0.034     Total estimated model params size (MB)\n",
      "/home/amli/miniconda3/envs/tgmamba/lib/python3.12/site-packages/lightning/pytorch/trainer/connectors/data_connector.py:424: The 'train_dataloader' does not have many workers which may be a bottleneck. Consider increasing the value of the `num_workers` argument` to `num_workers=84` in the `DataLoader` to improve performance.\n",
      "/home/amli/miniconda3/envs/tgmamba/lib/python3.12/site-packages/lightning/pytorch/loops/fit_loop.py:298: The number of training batches (10) is smaller than the logging interval Trainer(log_every_n_steps=50). Set a lower value for log_every_n_steps if you want to see logs for the training epoch.\n"
     ]
    },
    {
     "name": "stdout",
     "output_type": "stream",
     "text": [
      "Epoch 0:   0%|          | 0/10 [00:00<?, ?it/s] Shape: Shape:torch.Size([10240, 19, 100]) Shape:torch.Size([10240, 19, 100])\n",
      " \n",
      "Batch size:torch.Size([10240, 19, 100])Batch size: \n",
      " 10240Batch size:10240\n",
      " \n",
      "Number of nodes:10240Number of nodes: \n",
      " 19Number of nodes:19\n",
      " \n",
      "Time steps:19Time steps: \n",
      " 100Time steps:100\n",
      " \n",
      "100\n"
     ]
    },
    {
     "ename": "ProcessRaisedException",
     "evalue": "\n\n-- Process 0 terminated with the following error:\nTraceback (most recent call last):\n  File \"/home/amli/miniconda3/envs/tgmamba/lib/python3.12/site-packages/torch/multiprocessing/spawn.py\", line 68, in _wrap\n    fn(i, *args)\n  File \"/home/amli/miniconda3/envs/tgmamba/lib/python3.12/site-packages/lightning/pytorch/strategies/launchers/multiprocessing.py\", line 173, in _wrapping_function\n    results = function(*args, **kwargs)\n              ^^^^^^^^^^^^^^^^^^^^^^^^^\n  File \"/home/amli/miniconda3/envs/tgmamba/lib/python3.12/site-packages/lightning/pytorch/trainer/trainer.py\", line 579, in _fit_impl\n    self._run(model, ckpt_path=ckpt_path)\n  File \"/home/amli/miniconda3/envs/tgmamba/lib/python3.12/site-packages/lightning/pytorch/trainer/trainer.py\", line 986, in _run\n    results = self._run_stage()\n              ^^^^^^^^^^^^^^^^^\n  File \"/home/amli/miniconda3/envs/tgmamba/lib/python3.12/site-packages/lightning/pytorch/trainer/trainer.py\", line 1030, in _run_stage\n    self.fit_loop.run()\n  File \"/home/amli/miniconda3/envs/tgmamba/lib/python3.12/site-packages/lightning/pytorch/loops/fit_loop.py\", line 205, in run\n    self.advance()\n  File \"/home/amli/miniconda3/envs/tgmamba/lib/python3.12/site-packages/lightning/pytorch/loops/fit_loop.py\", line 363, in advance\n    self.epoch_loop.run(self._data_fetcher)\n  File \"/home/amli/miniconda3/envs/tgmamba/lib/python3.12/site-packages/lightning/pytorch/loops/training_epoch_loop.py\", line 140, in run\n    self.advance(data_fetcher)\n  File \"/home/amli/miniconda3/envs/tgmamba/lib/python3.12/site-packages/lightning/pytorch/loops/training_epoch_loop.py\", line 250, in advance\n    batch_output = self.automatic_optimization.run(trainer.optimizers[0], batch_idx, kwargs)\n                   ^^^^^^^^^^^^^^^^^^^^^^^^^^^^^^^^^^^^^^^^^^^^^^^^^^^^^^^^^^^^^^^^^^^^^^^^^\n  File \"/home/amli/miniconda3/envs/tgmamba/lib/python3.12/site-packages/lightning/pytorch/loops/optimization/automatic.py\", line 190, in run\n    self._optimizer_step(batch_idx, closure)\n  File \"/home/amli/miniconda3/envs/tgmamba/lib/python3.12/site-packages/lightning/pytorch/loops/optimization/automatic.py\", line 268, in _optimizer_step\n    call._call_lightning_module_hook(\n  File \"/home/amli/miniconda3/envs/tgmamba/lib/python3.12/site-packages/lightning/pytorch/trainer/call.py\", line 159, in _call_lightning_module_hook\n    output = fn(*args, **kwargs)\n             ^^^^^^^^^^^^^^^^^^^\n  File \"/home/amli/miniconda3/envs/tgmamba/lib/python3.12/site-packages/lightning/pytorch/core/module.py\", line 1308, in optimizer_step\n    optimizer.step(closure=optimizer_closure)\n  File \"/home/amli/miniconda3/envs/tgmamba/lib/python3.12/site-packages/lightning/pytorch/core/optimizer.py\", line 153, in step\n    step_output = self._strategy.optimizer_step(self._optimizer, closure, **kwargs)\n                  ^^^^^^^^^^^^^^^^^^^^^^^^^^^^^^^^^^^^^^^^^^^^^^^^^^^^^^^^^^^^^^^^^\n  File \"/home/amli/miniconda3/envs/tgmamba/lib/python3.12/site-packages/lightning/pytorch/strategies/ddp.py\", line 270, in optimizer_step\n    optimizer_output = super().optimizer_step(optimizer, closure, model, **kwargs)\n                       ^^^^^^^^^^^^^^^^^^^^^^^^^^^^^^^^^^^^^^^^^^^^^^^^^^^^^^^^^^^\n  File \"/home/amli/miniconda3/envs/tgmamba/lib/python3.12/site-packages/lightning/pytorch/strategies/strategy.py\", line 238, in optimizer_step\n    return self.precision_plugin.optimizer_step(optimizer, model=model, closure=closure, **kwargs)\n           ^^^^^^^^^^^^^^^^^^^^^^^^^^^^^^^^^^^^^^^^^^^^^^^^^^^^^^^^^^^^^^^^^^^^^^^^^^^^^^^^^^^^^^^\n  File \"/home/amli/miniconda3/envs/tgmamba/lib/python3.12/site-packages/lightning/pytorch/plugins/precision/amp.py\", line 74, in optimizer_step\n    return super().optimizer_step(optimizer, model=model, closure=closure, **kwargs)\n           ^^^^^^^^^^^^^^^^^^^^^^^^^^^^^^^^^^^^^^^^^^^^^^^^^^^^^^^^^^^^^^^^^^^^^^^^^\n  File \"/home/amli/miniconda3/envs/tgmamba/lib/python3.12/site-packages/lightning/pytorch/plugins/precision/precision.py\", line 122, in optimizer_step\n    return optimizer.step(closure=closure, **kwargs)\n           ^^^^^^^^^^^^^^^^^^^^^^^^^^^^^^^^^^^^^^^^^\n  File \"/home/amli/miniconda3/envs/tgmamba/lib/python3.12/site-packages/torch/optim/lr_scheduler.py\", line 75, in wrapper\n    return wrapped(*args, **kwargs)\n           ^^^^^^^^^^^^^^^^^^^^^^^^\n  File \"/home/amli/miniconda3/envs/tgmamba/lib/python3.12/site-packages/torch/optim/optimizer.py\", line 385, in wrapper\n    out = func(*args, **kwargs)\n          ^^^^^^^^^^^^^^^^^^^^^\n  File \"/home/amli/miniconda3/envs/tgmamba/lib/python3.12/site-packages/torch/optim/optimizer.py\", line 76, in _use_grad\n    ret = func(self, *args, **kwargs)\n          ^^^^^^^^^^^^^^^^^^^^^^^^^^^\n  File \"/home/amli/miniconda3/envs/tgmamba/lib/python3.12/site-packages/torch/optim/adam.py\", line 146, in step\n    loss = closure()\n           ^^^^^^^^^\n  File \"/home/amli/miniconda3/envs/tgmamba/lib/python3.12/site-packages/lightning/pytorch/plugins/precision/precision.py\", line 108, in _wrap_closure\n    closure_result = closure()\n                     ^^^^^^^^^\n  File \"/home/amli/miniconda3/envs/tgmamba/lib/python3.12/site-packages/lightning/pytorch/loops/optimization/automatic.py\", line 144, in __call__\n    self._result = self.closure(*args, **kwargs)\n                   ^^^^^^^^^^^^^^^^^^^^^^^^^^^^^\n  File \"/home/amli/miniconda3/envs/tgmamba/lib/python3.12/site-packages/torch/utils/_contextlib.py\", line 115, in decorate_context\n    return func(*args, **kwargs)\n           ^^^^^^^^^^^^^^^^^^^^^\n  File \"/home/amli/miniconda3/envs/tgmamba/lib/python3.12/site-packages/lightning/pytorch/loops/optimization/automatic.py\", line 129, in closure\n    step_output = self._step_fn()\n                  ^^^^^^^^^^^^^^^\n  File \"/home/amli/miniconda3/envs/tgmamba/lib/python3.12/site-packages/lightning/pytorch/loops/optimization/automatic.py\", line 317, in _training_step\n    training_step_output = call._call_strategy_hook(trainer, \"training_step\", *kwargs.values())\n                           ^^^^^^^^^^^^^^^^^^^^^^^^^^^^^^^^^^^^^^^^^^^^^^^^^^^^^^^^^^^^^^^^^^^^\n  File \"/home/amli/miniconda3/envs/tgmamba/lib/python3.12/site-packages/lightning/pytorch/trainer/call.py\", line 311, in _call_strategy_hook\n    output = fn(*args, **kwargs)\n             ^^^^^^^^^^^^^^^^^^^\n  File \"/home/amli/miniconda3/envs/tgmamba/lib/python3.12/site-packages/lightning/pytorch/strategies/strategy.py\", line 389, in training_step\n    return self._forward_redirection(self.model, self.lightning_module, \"training_step\", *args, **kwargs)\n           ^^^^^^^^^^^^^^^^^^^^^^^^^^^^^^^^^^^^^^^^^^^^^^^^^^^^^^^^^^^^^^^^^^^^^^^^^^^^^^^^^^^^^^^^^^^^^^\n  File \"/home/amli/miniconda3/envs/tgmamba/lib/python3.12/site-packages/lightning/pytorch/strategies/strategy.py\", line 640, in __call__\n    wrapper_output = wrapper_module(*args, **kwargs)\n                     ^^^^^^^^^^^^^^^^^^^^^^^^^^^^^^^\n  File \"/home/amli/miniconda3/envs/tgmamba/lib/python3.12/site-packages/torch/nn/modules/module.py\", line 1511, in _wrapped_call_impl\n    return self._call_impl(*args, **kwargs)\n           ^^^^^^^^^^^^^^^^^^^^^^^^^^^^^^^^\n  File \"/home/amli/miniconda3/envs/tgmamba/lib/python3.12/site-packages/torch/nn/modules/module.py\", line 1520, in _call_impl\n    return forward_call(*args, **kwargs)\n           ^^^^^^^^^^^^^^^^^^^^^^^^^^^^^\n  File \"/home/amli/miniconda3/envs/tgmamba/lib/python3.12/site-packages/torch/nn/parallel/distributed.py\", line 1523, in forward\n    else self._run_ddp_forward(*inputs, **kwargs)\n         ^^^^^^^^^^^^^^^^^^^^^^^^^^^^^^^^^^^^^^^^\n  File \"/home/amli/miniconda3/envs/tgmamba/lib/python3.12/site-packages/torch/nn/parallel/distributed.py\", line 1359, in _run_ddp_forward\n    return self.module(*inputs, **kwargs)  # type: ignore[index]\n           ^^^^^^^^^^^^^^^^^^^^^^^^^^^^^^\n  File \"/home/amli/miniconda3/envs/tgmamba/lib/python3.12/site-packages/torch/nn/modules/module.py\", line 1511, in _wrapped_call_impl\n    return self._call_impl(*args, **kwargs)\n           ^^^^^^^^^^^^^^^^^^^^^^^^^^^^^^^^\n  File \"/home/amli/miniconda3/envs/tgmamba/lib/python3.12/site-packages/torch/nn/modules/module.py\", line 1520, in _call_impl\n    return forward_call(*args, **kwargs)\n           ^^^^^^^^^^^^^^^^^^^^^^^^^^^^^\n  File \"/home/amli/miniconda3/envs/tgmamba/lib/python3.12/site-packages/lightning/pytorch/strategies/strategy.py\", line 633, in wrapped_forward\n    out = method(*_args, **_kwargs)\n          ^^^^^^^^^^^^^^^^^^^^^^^^^\n  File \"/tmp/ipykernel_2251769/31536843.py\", line 65, in training_step\n    print(\"Features per node:\", data.x.shape[3])\n                                ~~~~~~~~~~~~^^^\nIndexError: tuple index out of range\n",
     "output_type": "error",
     "traceback": [
      "\u001b[0;31m---------------------------------------------------------------------------\u001b[0m",
      "\u001b[0;31mProcessRaisedException\u001b[0m                    Traceback (most recent call last)",
      "Cell \u001b[0;32mIn[10], line 14\u001b[0m\n\u001b[1;32m      5\u001b[0m trainer \u001b[38;5;241m=\u001b[39m L\u001b[38;5;241m.\u001b[39mTrainer(\n\u001b[1;32m      6\u001b[0m     max_epochs\u001b[38;5;241m=\u001b[39m\u001b[38;5;241m1000\u001b[39m,\n\u001b[1;32m      7\u001b[0m     devices\u001b[38;5;241m=\u001b[39m[\u001b[38;5;241m0\u001b[39m, \u001b[38;5;241m1\u001b[39m, \u001b[38;5;241m2\u001b[39m],\n\u001b[0;32m   (...)\u001b[0m\n\u001b[1;32m     10\u001b[0m     strategy\u001b[38;5;241m=\u001b[39m\u001b[38;5;124m\"\u001b[39m\u001b[38;5;124mddp_notebook_find_unused_parameters_false\u001b[39m\u001b[38;5;124m\"\u001b[39m\n\u001b[1;32m     11\u001b[0m )\n\u001b[1;32m     13\u001b[0m \u001b[38;5;66;03m# Start training\u001b[39;00m\n\u001b[0;32m---> 14\u001b[0m \u001b[43mtrainer\u001b[49m\u001b[38;5;241;43m.\u001b[39;49m\u001b[43mfit\u001b[49m\u001b[43m(\u001b[49m\u001b[43mmodel\u001b[49m\u001b[43m,\u001b[49m\u001b[43m \u001b[49m\u001b[43mtrain_dataloader\u001b[49m\u001b[43m)\u001b[49m\n",
      "File \u001b[0;32m~/miniconda3/envs/tgmamba/lib/python3.12/site-packages/lightning/pytorch/trainer/trainer.py:543\u001b[0m, in \u001b[0;36mTrainer.fit\u001b[0;34m(self, model, train_dataloaders, val_dataloaders, datamodule, ckpt_path)\u001b[0m\n\u001b[1;32m    541\u001b[0m \u001b[38;5;28mself\u001b[39m\u001b[38;5;241m.\u001b[39mstate\u001b[38;5;241m.\u001b[39mstatus \u001b[38;5;241m=\u001b[39m TrainerStatus\u001b[38;5;241m.\u001b[39mRUNNING\n\u001b[1;32m    542\u001b[0m \u001b[38;5;28mself\u001b[39m\u001b[38;5;241m.\u001b[39mtraining \u001b[38;5;241m=\u001b[39m \u001b[38;5;28;01mTrue\u001b[39;00m\n\u001b[0;32m--> 543\u001b[0m \u001b[43mcall\u001b[49m\u001b[38;5;241;43m.\u001b[39;49m\u001b[43m_call_and_handle_interrupt\u001b[49m\u001b[43m(\u001b[49m\n\u001b[1;32m    544\u001b[0m \u001b[43m    \u001b[49m\u001b[38;5;28;43mself\u001b[39;49m\u001b[43m,\u001b[49m\u001b[43m \u001b[49m\u001b[38;5;28;43mself\u001b[39;49m\u001b[38;5;241;43m.\u001b[39;49m\u001b[43m_fit_impl\u001b[49m\u001b[43m,\u001b[49m\u001b[43m \u001b[49m\u001b[43mmodel\u001b[49m\u001b[43m,\u001b[49m\u001b[43m \u001b[49m\u001b[43mtrain_dataloaders\u001b[49m\u001b[43m,\u001b[49m\u001b[43m \u001b[49m\u001b[43mval_dataloaders\u001b[49m\u001b[43m,\u001b[49m\u001b[43m \u001b[49m\u001b[43mdatamodule\u001b[49m\u001b[43m,\u001b[49m\u001b[43m \u001b[49m\u001b[43mckpt_path\u001b[49m\n\u001b[1;32m    545\u001b[0m \u001b[43m\u001b[49m\u001b[43m)\u001b[49m\n",
      "File \u001b[0;32m~/miniconda3/envs/tgmamba/lib/python3.12/site-packages/lightning/pytorch/trainer/call.py:43\u001b[0m, in \u001b[0;36m_call_and_handle_interrupt\u001b[0;34m(trainer, trainer_fn, *args, **kwargs)\u001b[0m\n\u001b[1;32m     41\u001b[0m \u001b[38;5;28;01mtry\u001b[39;00m:\n\u001b[1;32m     42\u001b[0m     \u001b[38;5;28;01mif\u001b[39;00m trainer\u001b[38;5;241m.\u001b[39mstrategy\u001b[38;5;241m.\u001b[39mlauncher \u001b[38;5;129;01mis\u001b[39;00m \u001b[38;5;129;01mnot\u001b[39;00m \u001b[38;5;28;01mNone\u001b[39;00m:\n\u001b[0;32m---> 43\u001b[0m         \u001b[38;5;28;01mreturn\u001b[39;00m \u001b[43mtrainer\u001b[49m\u001b[38;5;241;43m.\u001b[39;49m\u001b[43mstrategy\u001b[49m\u001b[38;5;241;43m.\u001b[39;49m\u001b[43mlauncher\u001b[49m\u001b[38;5;241;43m.\u001b[39;49m\u001b[43mlaunch\u001b[49m\u001b[43m(\u001b[49m\u001b[43mtrainer_fn\u001b[49m\u001b[43m,\u001b[49m\u001b[43m \u001b[49m\u001b[38;5;241;43m*\u001b[39;49m\u001b[43margs\u001b[49m\u001b[43m,\u001b[49m\u001b[43m \u001b[49m\u001b[43mtrainer\u001b[49m\u001b[38;5;241;43m=\u001b[39;49m\u001b[43mtrainer\u001b[49m\u001b[43m,\u001b[49m\u001b[43m \u001b[49m\u001b[38;5;241;43m*\u001b[39;49m\u001b[38;5;241;43m*\u001b[39;49m\u001b[43mkwargs\u001b[49m\u001b[43m)\u001b[49m\n\u001b[1;32m     44\u001b[0m     \u001b[38;5;28;01mreturn\u001b[39;00m trainer_fn(\u001b[38;5;241m*\u001b[39margs, \u001b[38;5;241m*\u001b[39m\u001b[38;5;241m*\u001b[39mkwargs)\n\u001b[1;32m     46\u001b[0m \u001b[38;5;28;01mexcept\u001b[39;00m _TunerExitException:\n",
      "File \u001b[0;32m~/miniconda3/envs/tgmamba/lib/python3.12/site-packages/lightning/pytorch/strategies/launchers/multiprocessing.py:144\u001b[0m, in \u001b[0;36m_MultiProcessingLauncher.launch\u001b[0;34m(self, function, trainer, *args, **kwargs)\u001b[0m\n\u001b[1;32m    136\u001b[0m process_context \u001b[38;5;241m=\u001b[39m mp\u001b[38;5;241m.\u001b[39mstart_processes(\n\u001b[1;32m    137\u001b[0m     \u001b[38;5;28mself\u001b[39m\u001b[38;5;241m.\u001b[39m_wrapping_function,\n\u001b[1;32m    138\u001b[0m     args\u001b[38;5;241m=\u001b[39mprocess_args,\n\u001b[0;32m   (...)\u001b[0m\n\u001b[1;32m    141\u001b[0m     join\u001b[38;5;241m=\u001b[39m\u001b[38;5;28;01mFalse\u001b[39;00m,  \u001b[38;5;66;03m# we will join ourselves to get the process references\u001b[39;00m\n\u001b[1;32m    142\u001b[0m )\n\u001b[1;32m    143\u001b[0m \u001b[38;5;28mself\u001b[39m\u001b[38;5;241m.\u001b[39mprocs \u001b[38;5;241m=\u001b[39m process_context\u001b[38;5;241m.\u001b[39mprocesses\n\u001b[0;32m--> 144\u001b[0m \u001b[38;5;28;01mwhile\u001b[39;00m \u001b[38;5;129;01mnot\u001b[39;00m \u001b[43mprocess_context\u001b[49m\u001b[38;5;241;43m.\u001b[39;49m\u001b[43mjoin\u001b[49m\u001b[43m(\u001b[49m\u001b[43m)\u001b[49m:\n\u001b[1;32m    145\u001b[0m     \u001b[38;5;28;01mpass\u001b[39;00m\n\u001b[1;32m    147\u001b[0m worker_output \u001b[38;5;241m=\u001b[39m return_queue\u001b[38;5;241m.\u001b[39mget()\n",
      "File \u001b[0;32m~/miniconda3/envs/tgmamba/lib/python3.12/site-packages/torch/multiprocessing/spawn.py:158\u001b[0m, in \u001b[0;36mProcessContext.join\u001b[0;34m(self, timeout)\u001b[0m\n\u001b[1;32m    156\u001b[0m msg \u001b[38;5;241m=\u001b[39m \u001b[38;5;124m\"\u001b[39m\u001b[38;5;130;01m\\n\u001b[39;00m\u001b[38;5;130;01m\\n\u001b[39;00m\u001b[38;5;124m-- Process \u001b[39m\u001b[38;5;132;01m%d\u001b[39;00m\u001b[38;5;124m terminated with the following error:\u001b[39m\u001b[38;5;130;01m\\n\u001b[39;00m\u001b[38;5;124m\"\u001b[39m \u001b[38;5;241m%\u001b[39m error_index\n\u001b[1;32m    157\u001b[0m msg \u001b[38;5;241m+\u001b[39m\u001b[38;5;241m=\u001b[39m original_trace\n\u001b[0;32m--> 158\u001b[0m \u001b[38;5;28;01mraise\u001b[39;00m ProcessRaisedException(msg, error_index, failed_process\u001b[38;5;241m.\u001b[39mpid)\n",
      "\u001b[0;31mProcessRaisedException\u001b[0m: \n\n-- Process 0 terminated with the following error:\nTraceback (most recent call last):\n  File \"/home/amli/miniconda3/envs/tgmamba/lib/python3.12/site-packages/torch/multiprocessing/spawn.py\", line 68, in _wrap\n    fn(i, *args)\n  File \"/home/amli/miniconda3/envs/tgmamba/lib/python3.12/site-packages/lightning/pytorch/strategies/launchers/multiprocessing.py\", line 173, in _wrapping_function\n    results = function(*args, **kwargs)\n              ^^^^^^^^^^^^^^^^^^^^^^^^^\n  File \"/home/amli/miniconda3/envs/tgmamba/lib/python3.12/site-packages/lightning/pytorch/trainer/trainer.py\", line 579, in _fit_impl\n    self._run(model, ckpt_path=ckpt_path)\n  File \"/home/amli/miniconda3/envs/tgmamba/lib/python3.12/site-packages/lightning/pytorch/trainer/trainer.py\", line 986, in _run\n    results = self._run_stage()\n              ^^^^^^^^^^^^^^^^^\n  File \"/home/amli/miniconda3/envs/tgmamba/lib/python3.12/site-packages/lightning/pytorch/trainer/trainer.py\", line 1030, in _run_stage\n    self.fit_loop.run()\n  File \"/home/amli/miniconda3/envs/tgmamba/lib/python3.12/site-packages/lightning/pytorch/loops/fit_loop.py\", line 205, in run\n    self.advance()\n  File \"/home/amli/miniconda3/envs/tgmamba/lib/python3.12/site-packages/lightning/pytorch/loops/fit_loop.py\", line 363, in advance\n    self.epoch_loop.run(self._data_fetcher)\n  File \"/home/amli/miniconda3/envs/tgmamba/lib/python3.12/site-packages/lightning/pytorch/loops/training_epoch_loop.py\", line 140, in run\n    self.advance(data_fetcher)\n  File \"/home/amli/miniconda3/envs/tgmamba/lib/python3.12/site-packages/lightning/pytorch/loops/training_epoch_loop.py\", line 250, in advance\n    batch_output = self.automatic_optimization.run(trainer.optimizers[0], batch_idx, kwargs)\n                   ^^^^^^^^^^^^^^^^^^^^^^^^^^^^^^^^^^^^^^^^^^^^^^^^^^^^^^^^^^^^^^^^^^^^^^^^^\n  File \"/home/amli/miniconda3/envs/tgmamba/lib/python3.12/site-packages/lightning/pytorch/loops/optimization/automatic.py\", line 190, in run\n    self._optimizer_step(batch_idx, closure)\n  File \"/home/amli/miniconda3/envs/tgmamba/lib/python3.12/site-packages/lightning/pytorch/loops/optimization/automatic.py\", line 268, in _optimizer_step\n    call._call_lightning_module_hook(\n  File \"/home/amli/miniconda3/envs/tgmamba/lib/python3.12/site-packages/lightning/pytorch/trainer/call.py\", line 159, in _call_lightning_module_hook\n    output = fn(*args, **kwargs)\n             ^^^^^^^^^^^^^^^^^^^\n  File \"/home/amli/miniconda3/envs/tgmamba/lib/python3.12/site-packages/lightning/pytorch/core/module.py\", line 1308, in optimizer_step\n    optimizer.step(closure=optimizer_closure)\n  File \"/home/amli/miniconda3/envs/tgmamba/lib/python3.12/site-packages/lightning/pytorch/core/optimizer.py\", line 153, in step\n    step_output = self._strategy.optimizer_step(self._optimizer, closure, **kwargs)\n                  ^^^^^^^^^^^^^^^^^^^^^^^^^^^^^^^^^^^^^^^^^^^^^^^^^^^^^^^^^^^^^^^^^\n  File \"/home/amli/miniconda3/envs/tgmamba/lib/python3.12/site-packages/lightning/pytorch/strategies/ddp.py\", line 270, in optimizer_step\n    optimizer_output = super().optimizer_step(optimizer, closure, model, **kwargs)\n                       ^^^^^^^^^^^^^^^^^^^^^^^^^^^^^^^^^^^^^^^^^^^^^^^^^^^^^^^^^^^\n  File \"/home/amli/miniconda3/envs/tgmamba/lib/python3.12/site-packages/lightning/pytorch/strategies/strategy.py\", line 238, in optimizer_step\n    return self.precision_plugin.optimizer_step(optimizer, model=model, closure=closure, **kwargs)\n           ^^^^^^^^^^^^^^^^^^^^^^^^^^^^^^^^^^^^^^^^^^^^^^^^^^^^^^^^^^^^^^^^^^^^^^^^^^^^^^^^^^^^^^^\n  File \"/home/amli/miniconda3/envs/tgmamba/lib/python3.12/site-packages/lightning/pytorch/plugins/precision/amp.py\", line 74, in optimizer_step\n    return super().optimizer_step(optimizer, model=model, closure=closure, **kwargs)\n           ^^^^^^^^^^^^^^^^^^^^^^^^^^^^^^^^^^^^^^^^^^^^^^^^^^^^^^^^^^^^^^^^^^^^^^^^^\n  File \"/home/amli/miniconda3/envs/tgmamba/lib/python3.12/site-packages/lightning/pytorch/plugins/precision/precision.py\", line 122, in optimizer_step\n    return optimizer.step(closure=closure, **kwargs)\n           ^^^^^^^^^^^^^^^^^^^^^^^^^^^^^^^^^^^^^^^^^\n  File \"/home/amli/miniconda3/envs/tgmamba/lib/python3.12/site-packages/torch/optim/lr_scheduler.py\", line 75, in wrapper\n    return wrapped(*args, **kwargs)\n           ^^^^^^^^^^^^^^^^^^^^^^^^\n  File \"/home/amli/miniconda3/envs/tgmamba/lib/python3.12/site-packages/torch/optim/optimizer.py\", line 385, in wrapper\n    out = func(*args, **kwargs)\n          ^^^^^^^^^^^^^^^^^^^^^\n  File \"/home/amli/miniconda3/envs/tgmamba/lib/python3.12/site-packages/torch/optim/optimizer.py\", line 76, in _use_grad\n    ret = func(self, *args, **kwargs)\n          ^^^^^^^^^^^^^^^^^^^^^^^^^^^\n  File \"/home/amli/miniconda3/envs/tgmamba/lib/python3.12/site-packages/torch/optim/adam.py\", line 146, in step\n    loss = closure()\n           ^^^^^^^^^\n  File \"/home/amli/miniconda3/envs/tgmamba/lib/python3.12/site-packages/lightning/pytorch/plugins/precision/precision.py\", line 108, in _wrap_closure\n    closure_result = closure()\n                     ^^^^^^^^^\n  File \"/home/amli/miniconda3/envs/tgmamba/lib/python3.12/site-packages/lightning/pytorch/loops/optimization/automatic.py\", line 144, in __call__\n    self._result = self.closure(*args, **kwargs)\n                   ^^^^^^^^^^^^^^^^^^^^^^^^^^^^^\n  File \"/home/amli/miniconda3/envs/tgmamba/lib/python3.12/site-packages/torch/utils/_contextlib.py\", line 115, in decorate_context\n    return func(*args, **kwargs)\n           ^^^^^^^^^^^^^^^^^^^^^\n  File \"/home/amli/miniconda3/envs/tgmamba/lib/python3.12/site-packages/lightning/pytorch/loops/optimization/automatic.py\", line 129, in closure\n    step_output = self._step_fn()\n                  ^^^^^^^^^^^^^^^\n  File \"/home/amli/miniconda3/envs/tgmamba/lib/python3.12/site-packages/lightning/pytorch/loops/optimization/automatic.py\", line 317, in _training_step\n    training_step_output = call._call_strategy_hook(trainer, \"training_step\", *kwargs.values())\n                           ^^^^^^^^^^^^^^^^^^^^^^^^^^^^^^^^^^^^^^^^^^^^^^^^^^^^^^^^^^^^^^^^^^^^\n  File \"/home/amli/miniconda3/envs/tgmamba/lib/python3.12/site-packages/lightning/pytorch/trainer/call.py\", line 311, in _call_strategy_hook\n    output = fn(*args, **kwargs)\n             ^^^^^^^^^^^^^^^^^^^\n  File \"/home/amli/miniconda3/envs/tgmamba/lib/python3.12/site-packages/lightning/pytorch/strategies/strategy.py\", line 389, in training_step\n    return self._forward_redirection(self.model, self.lightning_module, \"training_step\", *args, **kwargs)\n           ^^^^^^^^^^^^^^^^^^^^^^^^^^^^^^^^^^^^^^^^^^^^^^^^^^^^^^^^^^^^^^^^^^^^^^^^^^^^^^^^^^^^^^^^^^^^^^\n  File \"/home/amli/miniconda3/envs/tgmamba/lib/python3.12/site-packages/lightning/pytorch/strategies/strategy.py\", line 640, in __call__\n    wrapper_output = wrapper_module(*args, **kwargs)\n                     ^^^^^^^^^^^^^^^^^^^^^^^^^^^^^^^\n  File \"/home/amli/miniconda3/envs/tgmamba/lib/python3.12/site-packages/torch/nn/modules/module.py\", line 1511, in _wrapped_call_impl\n    return self._call_impl(*args, **kwargs)\n           ^^^^^^^^^^^^^^^^^^^^^^^^^^^^^^^^\n  File \"/home/amli/miniconda3/envs/tgmamba/lib/python3.12/site-packages/torch/nn/modules/module.py\", line 1520, in _call_impl\n    return forward_call(*args, **kwargs)\n           ^^^^^^^^^^^^^^^^^^^^^^^^^^^^^\n  File \"/home/amli/miniconda3/envs/tgmamba/lib/python3.12/site-packages/torch/nn/parallel/distributed.py\", line 1523, in forward\n    else self._run_ddp_forward(*inputs, **kwargs)\n         ^^^^^^^^^^^^^^^^^^^^^^^^^^^^^^^^^^^^^^^^\n  File \"/home/amli/miniconda3/envs/tgmamba/lib/python3.12/site-packages/torch/nn/parallel/distributed.py\", line 1359, in _run_ddp_forward\n    return self.module(*inputs, **kwargs)  # type: ignore[index]\n           ^^^^^^^^^^^^^^^^^^^^^^^^^^^^^^\n  File \"/home/amli/miniconda3/envs/tgmamba/lib/python3.12/site-packages/torch/nn/modules/module.py\", line 1511, in _wrapped_call_impl\n    return self._call_impl(*args, **kwargs)\n           ^^^^^^^^^^^^^^^^^^^^^^^^^^^^^^^^\n  File \"/home/amli/miniconda3/envs/tgmamba/lib/python3.12/site-packages/torch/nn/modules/module.py\", line 1520, in _call_impl\n    return forward_call(*args, **kwargs)\n           ^^^^^^^^^^^^^^^^^^^^^^^^^^^^^\n  File \"/home/amli/miniconda3/envs/tgmamba/lib/python3.12/site-packages/lightning/pytorch/strategies/strategy.py\", line 633, in wrapped_forward\n    out = method(*_args, **_kwargs)\n          ^^^^^^^^^^^^^^^^^^^^^^^^^\n  File \"/tmp/ipykernel_2251769/31536843.py\", line 65, in training_step\n    print(\"Features per node:\", data.x.shape[3])\n                                ~~~~~~~~~~~~^^^\nIndexError: tuple index out of range\n"
     ]
    }
   ],
   "source": [
    "torch.manual_seed(123)\n",
    "\n",
    "# Configure trainer\n",
    "torch.set_float32_matmul_precision('high')\n",
    "trainer = L.Trainer(\n",
    "    max_epochs=1000,\n",
    "    devices=[0, 1, 2],\n",
    "    accelerator=\"gpu\",\n",
    "    precision=\"bf16-mixed\",\n",
    "    strategy=\"ddp_notebook_find_unused_parameters_false\"\n",
    ")\n",
    "\n",
    "# Start training\n",
    "trainer.fit(model, train_dataloader)"
   ]
  },
  {
   "cell_type": "markdown",
   "id": "f879720b",
   "metadata": {},
   "source": [
    "## Save/Load trained model"
   ]
  },
  {
   "cell_type": "code",
   "execution_count": null,
   "id": "fb72628e-964c-49ed-bcef-35eb789748b4",
   "metadata": {},
   "outputs": [],
   "source": [
    "torch.save(model.state_dict() , 'model_nca_14s_ds.pt' )"
   ]
  },
  {
   "cell_type": "code",
   "execution_count": 18,
   "id": "255f5700-d44f-4eb7-83ba-6935d4b07dfe",
   "metadata": {},
   "outputs": [
    {
     "ename": "FileNotFoundError",
     "evalue": "[Errno 2] No such file or directory: 'model_nca_fr_half_rand_iter.pt'",
     "output_type": "error",
     "traceback": [
      "\u001b[0;31m---------------------------------------------------------------------------\u001b[0m",
      "\u001b[0;31mFileNotFoundError\u001b[0m                         Traceback (most recent call last)",
      "Cell \u001b[0;32mIn[18], line 1\u001b[0m\n\u001b[0;32m----> 1\u001b[0m model\u001b[38;5;241m.\u001b[39mload_state_dict(\u001b[43mtorch\u001b[49m\u001b[38;5;241;43m.\u001b[39;49m\u001b[43mload\u001b[49m\u001b[43m(\u001b[49m\u001b[38;5;124;43m'\u001b[39;49m\u001b[38;5;124;43mmodel_nca_fr_half_rand_iter.pt\u001b[39;49m\u001b[38;5;124;43m'\u001b[39;49m\u001b[43m)\u001b[49m)\n",
      "File \u001b[0;32m~/miniconda3/envs/tgmamba/lib/python3.12/site-packages/torch/serialization.py:998\u001b[0m, in \u001b[0;36mload\u001b[0;34m(f, map_location, pickle_module, weights_only, mmap, **pickle_load_args)\u001b[0m\n\u001b[1;32m    995\u001b[0m \u001b[38;5;28;01mif\u001b[39;00m \u001b[38;5;124m'\u001b[39m\u001b[38;5;124mencoding\u001b[39m\u001b[38;5;124m'\u001b[39m \u001b[38;5;129;01mnot\u001b[39;00m \u001b[38;5;129;01min\u001b[39;00m pickle_load_args\u001b[38;5;241m.\u001b[39mkeys():\n\u001b[1;32m    996\u001b[0m     pickle_load_args[\u001b[38;5;124m'\u001b[39m\u001b[38;5;124mencoding\u001b[39m\u001b[38;5;124m'\u001b[39m] \u001b[38;5;241m=\u001b[39m \u001b[38;5;124m'\u001b[39m\u001b[38;5;124mutf-8\u001b[39m\u001b[38;5;124m'\u001b[39m\n\u001b[0;32m--> 998\u001b[0m \u001b[38;5;28;01mwith\u001b[39;00m \u001b[43m_open_file_like\u001b[49m\u001b[43m(\u001b[49m\u001b[43mf\u001b[49m\u001b[43m,\u001b[49m\u001b[43m \u001b[49m\u001b[38;5;124;43m'\u001b[39;49m\u001b[38;5;124;43mrb\u001b[39;49m\u001b[38;5;124;43m'\u001b[39;49m\u001b[43m)\u001b[49m \u001b[38;5;28;01mas\u001b[39;00m opened_file:\n\u001b[1;32m    999\u001b[0m     \u001b[38;5;28;01mif\u001b[39;00m _is_zipfile(opened_file):\n\u001b[1;32m   1000\u001b[0m         \u001b[38;5;66;03m# The zipfile reader is going to advance the current file position.\u001b[39;00m\n\u001b[1;32m   1001\u001b[0m         \u001b[38;5;66;03m# If we want to actually tail call to torch.jit.load, we need to\u001b[39;00m\n\u001b[1;32m   1002\u001b[0m         \u001b[38;5;66;03m# reset back to the original position.\u001b[39;00m\n\u001b[1;32m   1003\u001b[0m         orig_position \u001b[38;5;241m=\u001b[39m opened_file\u001b[38;5;241m.\u001b[39mtell()\n",
      "File \u001b[0;32m~/miniconda3/envs/tgmamba/lib/python3.12/site-packages/torch/serialization.py:445\u001b[0m, in \u001b[0;36m_open_file_like\u001b[0;34m(name_or_buffer, mode)\u001b[0m\n\u001b[1;32m    443\u001b[0m \u001b[38;5;28;01mdef\u001b[39;00m \u001b[38;5;21m_open_file_like\u001b[39m(name_or_buffer, mode):\n\u001b[1;32m    444\u001b[0m     \u001b[38;5;28;01mif\u001b[39;00m _is_path(name_or_buffer):\n\u001b[0;32m--> 445\u001b[0m         \u001b[38;5;28;01mreturn\u001b[39;00m \u001b[43m_open_file\u001b[49m\u001b[43m(\u001b[49m\u001b[43mname_or_buffer\u001b[49m\u001b[43m,\u001b[49m\u001b[43m \u001b[49m\u001b[43mmode\u001b[49m\u001b[43m)\u001b[49m\n\u001b[1;32m    446\u001b[0m     \u001b[38;5;28;01melse\u001b[39;00m:\n\u001b[1;32m    447\u001b[0m         \u001b[38;5;28;01mif\u001b[39;00m \u001b[38;5;124m'\u001b[39m\u001b[38;5;124mw\u001b[39m\u001b[38;5;124m'\u001b[39m \u001b[38;5;129;01min\u001b[39;00m mode:\n",
      "File \u001b[0;32m~/miniconda3/envs/tgmamba/lib/python3.12/site-packages/torch/serialization.py:426\u001b[0m, in \u001b[0;36m_open_file.__init__\u001b[0;34m(self, name, mode)\u001b[0m\n\u001b[1;32m    425\u001b[0m \u001b[38;5;28;01mdef\u001b[39;00m \u001b[38;5;21m__init__\u001b[39m(\u001b[38;5;28mself\u001b[39m, name, mode):\n\u001b[0;32m--> 426\u001b[0m     \u001b[38;5;28msuper\u001b[39m()\u001b[38;5;241m.\u001b[39m\u001b[38;5;21m__init__\u001b[39m(\u001b[38;5;28;43mopen\u001b[39;49m\u001b[43m(\u001b[49m\u001b[43mname\u001b[49m\u001b[43m,\u001b[49m\u001b[43m \u001b[49m\u001b[43mmode\u001b[49m\u001b[43m)\u001b[49m)\n",
      "\u001b[0;31mFileNotFoundError\u001b[0m: [Errno 2] No such file or directory: 'model_nca_fr_half_rand_iter.pt'"
     ]
    }
   ],
   "source": [
    "model.load_state_dict(torch.load('model_nca_fr_half_rand_iter.pt'))"
   ]
  },
  {
   "cell_type": "code",
   "execution_count": null,
   "id": "36793ef4-eebe-4313-b237-58fb9257c548",
   "metadata": {},
   "outputs": [
    {
     "data": {
      "text/plain": [
       "<All keys matched successfully>"
      ]
     },
     "execution_count": 104,
     "metadata": {},
     "output_type": "execute_result"
    }
   ],
   "source": [
    "model.load_state_dict(torch.load('model_nca_4s_best.pt'))"
   ]
  },
  {
   "cell_type": "code",
   "execution_count": 36,
   "id": "5a51a126",
   "metadata": {},
   "outputs": [],
   "source": [
    "checkpoint_path = '/home/amli/TGMamba/mamba_ssm/ops/lightning_logs/version_0/checkpoints/epoch=999-step=10000.ckpt'\n",
    "model = LitNCA_EEG.load_from_checkpoint(checkpoint_path,\n",
    "                                        fire_rate=0.5,\n",
    "                                        conv_type='gconv')"
   ]
  },
  {
   "cell_type": "markdown",
   "id": "7ded8889",
   "metadata": {},
   "source": [
    "# Test the model"
   ]
  },
  {
   "cell_type": "code",
   "execution_count": 37,
   "id": "6a3f59b3-417c-46a0-b364-4b593fadd084",
   "metadata": {},
   "outputs": [
    {
     "name": "stderr",
     "output_type": "stream",
     "text": [
      "100%|██████████| 10/10 [33:13<00:00, 199.32s/it]\n"
     ]
    }
   ],
   "source": [
    "latency = []\n",
    "for data in tqdm(test_dataloader):\n",
    "    for i in range(max(data.batch)):\n",
    "        # Move data to GPU and run inference\n",
    "        out = model.to('cuda')(data.to('cuda')) \n",
    "        out = global_mean_pool(out, data.batch)\n",
    "        \n",
    "        # Apply sigmoid and round to get binary prediction\n",
    "        label = np.round(torch.sigmoid(out[i,:]).cpu().detach().numpy())\n",
    "\n",
    "        # If prediction matches ground truth, record the index (latency)\n",
    "        if np.argwhere(label == data.y[i].cpu().detach().numpy()).shape != (0,1):\n",
    "            latency.extend(np.argwhere(label == data.y[i].cpu().detach().numpy())[0])\n"
   ]
  },
  {
   "cell_type": "code",
   "execution_count": 9,
   "id": "ea2865a8-fd69-4888-8204-3547f141cbc8",
   "metadata": {},
   "outputs": [
    {
     "data": {
      "text/plain": [
       "DataBatch(x=[16321, 10, 100], edge_index=[2, 61848], y=[859], batch=[16321], edge_weight=[859, 72], elec_pos=[16321, 2], ptr=[860])"
      ]
     },
     "execution_count": 9,
     "metadata": {},
     "output_type": "execute_result"
    }
   ],
   "source": [
    "data \n"
   ]
  },
  {
   "cell_type": "code",
   "execution_count": 36,
   "id": "2d6d4149-d006-471e-8ce7-edf7645aa0b7",
   "metadata": {},
   "outputs": [
    {
     "name": "stderr",
     "output_type": "stream",
     "text": [
      "100%|███████████████████████████████████████████| 32/32 [00:10<00:00,  3.17it/s]\n"
     ]
    }
   ],
   "source": [
    "l = []  # predictions\n",
    "gt = []  # ground truth\n",
    "\n",
    "# Evaluate model on test dataset again but this time, store predictions and ground truth\n",
    "for batch_num, data in enumerate(tqdm(test_dataloader)):\n",
    "    # Move data to GPU and run inference\n",
    "    out = model.to('cuda')(data.to('cuda'))\n",
    "    out = global_mean_pool(out, data.batch)\n",
    "    \n",
    "    # Store predictions\n",
    "    l.extend((torch.sigmoid(out.reshape(-1,1))).to('cpu').detach().numpy())\n",
    "    # Store ground truth\n",
    "    gt.extend((data.y.type(torch.float32).reshape(-1,1).to('cpu')).detach().numpy())\n"
   ]
  },
  {
   "cell_type": "code",
   "execution_count": 25,
   "id": "e1c44c34-651b-41c3-a3a1-6739c26fdf95",
   "metadata": {},
   "outputs": [
    {
     "ename": "NameError",
     "evalue": "name 'gt' is not defined",
     "output_type": "error",
     "traceback": [
      "\u001b[0;31m---------------------------------------------------------------------------\u001b[0m",
      "\u001b[0;31mNameError\u001b[0m                                 Traceback (most recent call last)",
      "Cell \u001b[0;32mIn[25], line 3\u001b[0m\n\u001b[1;32m      1\u001b[0m \u001b[38;5;28;01mfrom\u001b[39;00m \u001b[38;5;21;01msklearn\u001b[39;00m \u001b[38;5;28;01mimport\u001b[39;00m metrics\n\u001b[0;32m----> 3\u001b[0m fpr, tpr, thresholds \u001b[38;5;241m=\u001b[39m metrics\u001b[38;5;241m.\u001b[39mroc_curve(np\u001b[38;5;241m.\u001b[39mravel(np\u001b[38;5;241m.\u001b[39marray(\u001b[43mgt\u001b[49m)\u001b[38;5;241m.\u001b[39mreshape(\u001b[38;5;241m-\u001b[39m\u001b[38;5;241m1\u001b[39m,\u001b[38;5;241m1\u001b[39m)), \n\u001b[1;32m      4\u001b[0m                                          np\u001b[38;5;241m.\u001b[39mravel(np\u001b[38;5;241m.\u001b[39marray(l)\u001b[38;5;241m.\u001b[39mreshape(\u001b[38;5;241m-\u001b[39m\u001b[38;5;241m1\u001b[39m,\u001b[38;5;241m1\u001b[39m)))\n\u001b[1;32m      5\u001b[0m auc \u001b[38;5;241m=\u001b[39m metrics\u001b[38;5;241m.\u001b[39mauc(fpr, tpr)\n\u001b[1;32m      6\u001b[0m \u001b[38;5;28mprint\u001b[39m(\u001b[38;5;124mf\u001b[39m\u001b[38;5;124m\"\u001b[39m\u001b[38;5;124mAUC: \u001b[39m\u001b[38;5;132;01m{\u001b[39;00mauc\u001b[38;5;132;01m}\u001b[39;00m\u001b[38;5;124m\"\u001b[39m)\n",
      "\u001b[0;31mNameError\u001b[0m: name 'gt' is not defined"
     ]
    }
   ],
   "source": [
    "from sklearn import metrics\n",
    "\n",
    "fpr, tpr, thresholds = metrics.roc_curve(np.ravel(np.array(gt).reshape(-1,1)), \n",
    "                                         np.ravel(np.array(l).reshape(-1,1)))\n",
    "auc = metrics.auc(fpr, tpr)\n",
    "print(f\"AUC: {auc}\")\n",
    "\n",
    "# data = [[x, y] for (x, y) in zip(fpr, tpr)]\n",
    "# table = wandb.Table(data=data, columns = [\"x\", \"y\"])\n",
    "# wandb.log(\n",
    "#     {\"ROC\" : wandb.plot.line(table, \"x\", \"y\",\n",
    "#            title=\"ROC-FFT-NCA-random-iter\")})\n"
   ]
  },
  {
   "cell_type": "markdown",
   "id": "6feb97aa",
   "metadata": {},
   "source": [
    "### Count the number of parameters in the model"
   ]
  },
  {
   "cell_type": "code",
   "execution_count": 26,
   "id": "f463eaf7-9a0c-47a0-adc3-6a738b03f465",
   "metadata": {},
   "outputs": [
    {
     "name": "stdout",
     "output_type": "stream",
     "text": [
      "Number of parameters: 8449\n"
     ]
    }
   ],
   "source": [
    "num_params = sum(p.numel() for p in model.parameters())\n",
    "print(f\"Number of parameters: {num_params}\")\n",
    "# metrics.auc(fpr,tpr)\n"
   ]
  },
  {
   "cell_type": "markdown",
   "id": "961c3048",
   "metadata": {},
   "source": [
    "# Evaluation"
   ]
  },
  {
   "cell_type": "markdown",
   "id": "4dd57a46",
   "metadata": {},
   "source": [
    "## Load evaluation dataset"
   ]
  },
  {
   "cell_type": "code",
   "execution_count": 27,
   "id": "b76a2c33-d74e-4a81-9725-0202a5b8e5f7",
   "metadata": {},
   "outputs": [
    {
     "name": "stdout",
     "output_type": "stream",
     "text": [
      "(32075,)\n"
     ]
    }
   ],
   "source": [
    "with h5py.File('/home/data_shared/clip_data_eval.h5', \"r\") as f:\n",
    "    EEG = np.array(f[list(f.keys())[0]])\n",
    "\n",
    "with h5py.File('/home/data_shared/label_eval.h5', \"r\") as f:\n",
    "    Label = np.array(f[list(f.keys())[0]])\n",
    "\n",
    "print(Label.shape)"
   ]
  },
  {
   "cell_type": "markdown",
   "id": "2d4c2378",
   "metadata": {},
   "source": [
    "Prepare the evaluation dataset"
   ]
  },
  {
   "cell_type": "code",
   "execution_count": 28,
   "id": "c9440e22-7eeb-487e-90e6-db7eba5a1285",
   "metadata": {},
   "outputs": [
    {
     "name": "stderr",
     "output_type": "stream",
     "text": [
      "100%|██████████| 32075/32075 [00:23<00:00, 1384.96it/s]\n"
     ]
    }
   ],
   "source": [
    "dataset = []\n",
    "batch = np.ones((1,19))\n",
    "from scipy.fft import fft\n",
    "is_fft = True\n",
    "\n",
    "for idx in tqdm(range(EEG.shape[0])):\n",
    "    eeg_clip = EEG[idx,:,:,:]\n",
    "    \n",
    "    if is_fft:\n",
    "        eeg_clip = np.log(np.abs(fft(eeg_clip,axis=2)[:,:,0:100]) + 1e-30)\n",
    "        \n",
    "    label = Label[idx]\n",
    "    \n",
    "    dataset.append(Data(x=torch.tensor(eeg_clip).transpose(1,0),\n",
    "                        y=torch.tensor((label), dtype=torch.long),\n",
    "                        batch=batch,\n",
    "                        edge_weight=edge_weight,\n",
    "                        edge_index=edge_index,\n",
    "                        elec_pos=torch.tensor(pos)))\n",
    "\n",
    "del Label, EEG  # Free up memory"
   ]
  },
  {
   "cell_type": "code",
   "execution_count": 21,
   "id": "5a952027-ea60-44b4-9927-94c0a724670b",
   "metadata": {},
   "outputs": [],
   "source": [
    "test_dataloader = DataLoader(dataset, batch_size=1024)"
   ]
  },
  {
   "cell_type": "code",
   "execution_count": 29,
   "id": "66ee329e",
   "metadata": {},
   "outputs": [],
   "source": [
    "from torch.profiler import profile, record_function, ProfilerActivity"
   ]
  },
  {
   "cell_type": "code",
   "execution_count": 22,
   "id": "b47abbb2-7999-4592-9343-b2099f71eda8",
   "metadata": {},
   "outputs": [
    {
     "name": "stderr",
     "output_type": "stream",
     "text": [
      "100%|███████████████████████████████████████████| 32/32 [00:06<00:00,  4.90it/s]\n"
     ]
    },
    {
     "data": {
      "text/plain": [
       "0.7827725076046922"
      ]
     },
     "execution_count": 22,
     "metadata": {},
     "output_type": "execute_result"
    }
   ],
   "source": [
    "l = []\n",
    "gt = []\n",
    "model.to('cuda')\n",
    "\n",
    "# with profile(activities=[\n",
    "#          ProfilerActivity.CUDA], record_shapes=True) as prof:\n",
    "#     with record_function(\"model_inference\"):\n",
    "    \n",
    "for batch_num, data in enumerate(tqdm(test_dataloader)):\n",
    "    out = model(data.to('cuda'))\n",
    "    out = global_mean_pool(out, data.batch)\n",
    "    \n",
    "    l.extend((torch.sigmoid(out.reshape(-1,1))).to('cpu').detach().numpy())\n",
    "    gt.extend((data.y.type(torch.float32).reshape(-1,1).to('cpu')).detach().numpy())"
   ]
  },
  {
   "cell_type": "code",
   "execution_count": 30,
   "id": "b78e0a4e",
   "metadata": {},
   "outputs": [],
   "source": [
    "from sklearn.metrics import f1_score\n",
    "from sklearn import metrics"
   ]
  },
  {
   "cell_type": "code",
   "execution_count": 31,
   "id": "cb3d3fe3-4837-438b-95f3-9e50c8edae62",
   "metadata": {},
   "outputs": [
    {
     "ename": "NameError",
     "evalue": "name 'gt' is not defined",
     "output_type": "error",
     "traceback": [
      "\u001b[0;31m---------------------------------------------------------------------------\u001b[0m",
      "\u001b[0;31mNameError\u001b[0m                                 Traceback (most recent call last)",
      "Cell \u001b[0;32mIn[31], line 1\u001b[0m\n\u001b[0;32m----> 1\u001b[0m f1 \u001b[38;5;241m=\u001b[39m f1_score(\u001b[43mgt\u001b[49m, np\u001b[38;5;241m.\u001b[39mround(l), average\u001b[38;5;241m=\u001b[39m\u001b[38;5;124m'\u001b[39m\u001b[38;5;124mweighted\u001b[39m\u001b[38;5;124m'\u001b[39m)\n\u001b[1;32m      2\u001b[0m \u001b[38;5;28mprint\u001b[39m(\u001b[38;5;124mf\u001b[39m\u001b[38;5;124m\"\u001b[39m\u001b[38;5;124mF1 Score: \u001b[39m\u001b[38;5;132;01m{\u001b[39;00mf1\u001b[38;5;132;01m}\u001b[39;00m\u001b[38;5;124m\"\u001b[39m)\n\u001b[1;32m      3\u001b[0m fpr, tpr, thresholds \u001b[38;5;241m=\u001b[39m metrics\u001b[38;5;241m.\u001b[39mroc_curve(np\u001b[38;5;241m.\u001b[39mravel( np\u001b[38;5;241m.\u001b[39marray(gt)\u001b[38;5;241m.\u001b[39mreshape(\u001b[38;5;241m-\u001b[39m\u001b[38;5;241m1\u001b[39m,\u001b[38;5;241m1\u001b[39m)) , \n\u001b[1;32m      4\u001b[0m                                          np\u001b[38;5;241m.\u001b[39mravel( np\u001b[38;5;241m.\u001b[39marray(l)\u001b[38;5;241m.\u001b[39mreshape(\u001b[38;5;241m-\u001b[39m\u001b[38;5;241m1\u001b[39m,\u001b[38;5;241m1\u001b[39m)   ) )\n",
      "\u001b[0;31mNameError\u001b[0m: name 'gt' is not defined"
     ]
    }
   ],
   "source": [
    "f1 = f1_score(gt, np.round(l), average='weighted')\n",
    "print(f\"F1 Score: {f1}\")\n",
    "fpr, tpr, thresholds = metrics.roc_curve(np.ravel( np.array(gt).reshape(-1,1)) , \n",
    "                                         np.ravel( np.array(l).reshape(-1,1)   ) )\n",
    "auc = metrics.auc(fpr, tpr)\n",
    "print(f\"AUC: {auc}\")"
   ]
  },
  {
   "cell_type": "code",
   "execution_count": 32,
   "id": "c10dea3d-6948-4f6f-9cd5-44454c44e6b4",
   "metadata": {},
   "outputs": [
    {
     "name": "stderr",
     "output_type": "stream",
     "text": [
      "ERROR: External init callback must run in same thread as registerClient (-693733568 != -1050695936)\n",
      "STAGE:2024-07-24 16:16:26 268283:268283 ActivityProfilerController.cpp:314] Completed Stage: Warm Up\n",
      "STAGE:2024-07-24 16:16:26 268283:268283 ActivityProfilerController.cpp:320] Completed Stage: Collection\n",
      "STAGE:2024-07-24 16:16:26 268283:268283 ActivityProfilerController.cpp:324] Completed Stage: Post Processing\n"
     ]
    }
   ],
   "source": [
    "data.to('cuda')\n",
    "model.cuda()\n",
    "with profile(activities=[\n",
    "         ProfilerActivity.CUDA], record_shapes=True) as prof:\n",
    "    with record_function(\"model_inference\"):\n",
    "         out = model(data)"
   ]
  },
  {
   "cell_type": "code",
   "execution_count": 82,
   "id": "6c6002c5-f9f2-42ae-931f-b744e665bf33",
   "metadata": {},
   "outputs": [
    {
     "name": "stdout",
     "output_type": "stream",
     "text": [
      "-------------------------------------------------------  ------------  ------------  ------------  ------------  ------------  ------------  ------------  ------------  ------------  ------------  \n",
      "                                                   Name    Self CPU %      Self CPU   CPU total %     CPU total  CPU time avg     Self CUDA   Self CUDA %    CUDA total  CUDA time avg    # of Calls  \n",
      "-------------------------------------------------------  ------------  ------------  ------------  ------------  ------------  ------------  ------------  ------------  ------------  ------------  \n",
      "void cutlass::Kernel<cutlass_80_tensorop_s1688gemm_6...         0.00%       0.000us         0.00%       0.000us       0.000us     210.000us        17.09%     210.000us       5.385us            39  \n",
      "-------------------------------------------------------  ------------  ------------  ------------  ------------  ------------  ------------  ------------  ------------  ------------  ------------  \n",
      "Self CPU time total: 2.700ms\n",
      "Self CUDA time total: 1.229ms\n",
      "\n"
     ]
    }
   ],
   "source": [
    "print(prof.key_averages().table(sort_by=\"cuda_time_total\", row_limit=1))"
   ]
  },
  {
   "cell_type": "markdown",
   "id": "0554a5fa",
   "metadata": {},
   "source": [
    "## Save ROC Curve data"
   ]
  },
  {
   "cell_type": "code",
   "execution_count": 42,
   "id": "6875be83-735a-402a-ade8-0f99e2475ebe",
   "metadata": {},
   "outputs": [],
   "source": [
    "from scipy.io import savemat\n",
    "mdic = {\"rest-roc-\": np.array([fpr,tpr])}\n",
    "savemat(\"metrics_roc/restds-14.mat\", mdic)"
   ]
  },
  {
   "cell_type": "markdown",
   "id": "10b74a7b-af78-4525-ba37-8e795692e858",
   "metadata": {},
   "source": [
    "## For interpretibility"
   ]
  },
  {
   "cell_type": "code",
   "execution_count": 10,
   "id": "f97a8145-22ba-43fc-a93c-9d7516745980",
   "metadata": {
    "scrolled": true
   },
   "outputs": [
    {
     "name": "stderr",
     "output_type": "stream",
     "text": [
      "  0%|                                                                   | 0/10 [00:00<?, ?it/s]\n"
     ]
    },
    {
     "ename": "NameError",
     "evalue": "name 'draw_graph_weighted_edge' is not defined",
     "output_type": "error",
     "traceback": [
      "\u001b[0;31m---------------------------------------------------------------------------\u001b[0m",
      "\u001b[0;31mNameError\u001b[0m                                 Traceback (most recent call last)",
      "Cell \u001b[0;32mIn[10], line 49\u001b[0m\n\u001b[1;32m     45\u001b[0m index \u001b[38;5;241m=\u001b[39m index\u001b[38;5;241m+\u001b[39m\u001b[38;5;241m1\u001b[39m\n\u001b[1;32m     47\u001b[0m color_node \u001b[38;5;241m=\u001b[39m nc_before\u001b[38;5;241m+\u001b[39m j\u001b[38;5;241m*\u001b[39m(\u001b[38;5;241m-\u001b[39m nc_before \u001b[38;5;241m+\u001b[39m nc)\u001b[38;5;241m/\u001b[39m\u001b[38;5;241m3\u001b[39m\n\u001b[0;32m---> 49\u001b[0m draw_graph_weighted_edge(adj_mx, axs[\u001b[38;5;241m0\u001b[39m],\n\u001b[1;32m     50\u001b[0m node_id_dict,\n\u001b[1;32m     51\u001b[0m pos_spec,\n\u001b[1;32m     52\u001b[0m is_directed\u001b[38;5;241m=\u001b[39m\u001b[38;5;28;01mTrue\u001b[39;00m,\n\u001b[1;32m     53\u001b[0m title\u001b[38;5;241m=\u001b[39m\u001b[38;5;124m'\u001b[39m\u001b[38;5;124m'\u001b[39m,\n\u001b[1;32m     54\u001b[0m save_dir\u001b[38;5;241m=\u001b[39m\u001b[38;5;124m'\u001b[39m\u001b[38;5;124mDesktop\u001b[39m\u001b[38;5;124m'\u001b[39m,\n\u001b[1;32m     55\u001b[0m fig_size\u001b[38;5;241m=\u001b[39m(\n\u001b[1;32m     56\u001b[0m     \u001b[38;5;241m3\u001b[39m,\n\u001b[1;32m     57\u001b[0m     \u001b[38;5;241m3\u001b[39m),\n\u001b[1;32m     58\u001b[0m node_color \u001b[38;5;241m=\u001b[39m torch\u001b[38;5;241m.\u001b[39msigmoid(model\u001b[38;5;241m.\u001b[39mfc(s_t))\u001b[38;5;241m.\u001b[39mcpu()\u001b[38;5;241m.\u001b[39mdetach()\u001b[38;5;241m.\u001b[39mnumpy()[\u001b[38;5;241m19\u001b[39m:\u001b[38;5;241m19\u001b[39m\u001b[38;5;241m*\u001b[39m\u001b[38;5;241m2\u001b[39m],\n\u001b[1;32m     59\u001b[0m font_size\u001b[38;5;241m=\u001b[39m\u001b[38;5;241m15\u001b[39m,\n\u001b[1;32m     60\u001b[0m     plot_colorbar\u001b[38;5;241m=\u001b[39m\u001b[38;5;28;01mFalse\u001b[39;00m )\n\u001b[1;32m     63\u001b[0m axs[\u001b[38;5;241m1\u001b[39m]\u001b[38;5;241m.\u001b[39mplot(signal[\u001b[38;5;241m0\u001b[39m:\u001b[38;5;241m10\u001b[39m\u001b[38;5;241m*\u001b[39mindex,:] , lw \u001b[38;5;241m=\u001b[39m \u001b[38;5;241m2\u001b[39m , color \u001b[38;5;241m=\u001b[39m \u001b[38;5;124m'\u001b[39m\u001b[38;5;124mcyan\u001b[39m\u001b[38;5;124m'\u001b[39m , label \u001b[38;5;241m=\u001b[39m [\u001b[38;5;124m'\u001b[39m\u001b[38;5;124mNormal\u001b[39m\u001b[38;5;124m'\u001b[39m,\u001b[38;5;28;01mNone\u001b[39;00m,\u001b[38;5;28;01mNone\u001b[39;00m,\u001b[38;5;28;01mNone\u001b[39;00m,\u001b[38;5;28;01mNone\u001b[39;00m,\u001b[38;5;28;01mNone\u001b[39;00m,\u001b[38;5;28;01mNone\u001b[39;00m,\u001b[38;5;28;01mNone\u001b[39;00m,\u001b[38;5;28;01mNone\u001b[39;00m,\u001b[38;5;28;01mNone\u001b[39;00m,\u001b[38;5;28;01mNone\u001b[39;00m,\u001b[38;5;28;01mNone\u001b[39;00m,\u001b[38;5;28;01mNone\u001b[39;00m,\u001b[38;5;28;01mNone\u001b[39;00m,\u001b[38;5;28;01mNone\u001b[39;00m,\u001b[38;5;28;01mNone\u001b[39;00m,\u001b[38;5;28;01mNone\u001b[39;00m,\u001b[38;5;28;01mNone\u001b[39;00m,\u001b[38;5;28;01mNone\u001b[39;00m])\n\u001b[1;32m     64\u001b[0m axs[\u001b[38;5;241m1\u001b[39m]\u001b[38;5;241m.\u001b[39mplot(seiz[\u001b[38;5;241m0\u001b[39m:\u001b[38;5;241m10\u001b[39m\u001b[38;5;241m*\u001b[39mindex,:] , lw \u001b[38;5;241m=\u001b[39m \u001b[38;5;241m2\u001b[39m , color \u001b[38;5;241m=\u001b[39m pink ,label \u001b[38;5;241m=\u001b[39m [\u001b[38;5;124m'\u001b[39m\u001b[38;5;124mSeizure\u001b[39m\u001b[38;5;124m'\u001b[39m,\u001b[38;5;28;01mNone\u001b[39;00m,\u001b[38;5;28;01mNone\u001b[39;00m,\u001b[38;5;28;01mNone\u001b[39;00m,\u001b[38;5;28;01mNone\u001b[39;00m,\u001b[38;5;28;01mNone\u001b[39;00m,\u001b[38;5;28;01mNone\u001b[39;00m,\u001b[38;5;28;01mNone\u001b[39;00m,\u001b[38;5;28;01mNone\u001b[39;00m,\u001b[38;5;28;01mNone\u001b[39;00m,\u001b[38;5;28;01mNone\u001b[39;00m,\u001b[38;5;28;01mNone\u001b[39;00m,\u001b[38;5;28;01mNone\u001b[39;00m,\u001b[38;5;28;01mNone\u001b[39;00m,\u001b[38;5;28;01mNone\u001b[39;00m,\u001b[38;5;28;01mNone\u001b[39;00m,\u001b[38;5;28;01mNone\u001b[39;00m,\u001b[38;5;28;01mNone\u001b[39;00m,\u001b[38;5;28;01mNone\u001b[39;00m])\n",
      "\u001b[0;31mNameError\u001b[0m: name 'draw_graph_weighted_edge' is not defined"
     ]
    },
    {
     "data": {
      "image/png": "[encoded data removed]",
      "text/plain": [
       "<Figure size 1500x500 with 2 Axes>"
      ]
     },
     "metadata": {},
     "output_type": "display_data"
    }
   ],
   "source": [
    "import matplotlib as mpl\n",
    "import tqdm\n",
    "\n",
    "for data in train_dataloader:   \n",
    "    1\n",
    "    \n",
    "s_t = None\n",
    "blue = 'blue'\n",
    "\n",
    "pink = '#F601FF'\n",
    "\n",
    "\n",
    "model.cuda()\n",
    "data.cuda()\n",
    "clip = (data.x.float()  - \n",
    "            data.x.float().mean(2, keepdim=True))/(data.x.float().std(2, keepdim=True) +1e-10)\n",
    "\n",
    "signal = sio.loadmat('/home/data_shared/signal_eeg.mat')['signal'][19:2*19,:]\n",
    "\n",
    "signal = signal+ 0.0004*np.arange(0,19).reshape(-1,1)\n",
    "\n",
    "signal = signal.T\n",
    "\n",
    "\n",
    "gt = np.zeros(signal.shape)\n",
    "gt[1400:2000,:] = 1\n",
    "seiz = [float('nan') if x==0 else x for x in np.ravel(gt*signal) ]\n",
    "seiz = np.array(seiz).reshape(2000,19)\n",
    "\n",
    "index = 0\n",
    "nc_before = 0\n",
    "\n",
    "for t in tqdm.tqdm(range(10)):\n",
    "    N = 5\n",
    "    for i in range( N ):\n",
    "        \n",
    "        x_t = clip[:,t,:].float()\n",
    "        s_t  = model.update(x_t ,data.edge_index , data.edge_weight , s_t , fire_rate = 0.5)\n",
    "        nc = torch.sigmoid(model.fc(s_t)).cpu().detach().numpy()[19:19*2]\n",
    "        \n",
    "        for j in range(4):\n",
    "\n",
    "            fig, axs = plt.subplots(1, 2, gridspec_kw={'width_ratios': [2, 3]} , figsize=(15,5) , facecolor='k')\n",
    "            \n",
    "            index = index+1\n",
    "\n",
    "            color_node = nc_before+ j*(- nc_before + nc)/3\n",
    "            \n",
    "            draw_graph_weighted_edge(adj_mx, axs[0],\n",
    "            node_id_dict,\n",
    "            pos_spec,\n",
    "            is_directed=True,\n",
    "            title='',\n",
    "            save_dir='Desktop',\n",
    "            fig_size=(\n",
    "                3,\n",
    "                3),\n",
    "            node_color = torch.sigmoid(model.fc(s_t)).cpu().detach().numpy()[19:19*2],\n",
    "            font_size=15,\n",
    "                plot_colorbar=False )\n",
    "    \n",
    "    \n",
    "            axs[1].plot(signal[0:10*index,:] , lw = 2 , color = 'cyan' , label = ['Normal',None,None,None,None,None,None,None,None,None,None,None,None,None,None,None,None,None,None])\n",
    "            axs[1].plot(seiz[0:10*index,:] , lw = 2 , color = pink ,label = ['Seizure',None,None,None,None,None,None,None,None,None,None,None,None,None,None,None,None,None,None])\n",
    "\n",
    "            axs[1].set_xlim([0,2000])\n",
    "            axs[1].set_ylim([-0.0003,0.008])\n",
    "\n",
    "            axs[1].legend( fontsize=15 , loc = 4)\n",
    "\n",
    "            axs[1].axis('off')\n",
    "\n",
    "            axs[0].axis('off')\n",
    "\n",
    "            # Seizure colorbar\n",
    "            cmap = plt.cm.cool(np.linspace(0, 1, (0 + 1) * 190))\n",
    "            cmap = matplotlib.colors.ListedColormap(cmap)\n",
    "            \n",
    "            sm = plt.cm.ScalarMappable(\n",
    "                        cmap=cmap, norm=plt.Normalize(\n",
    "                            vmin=0, vmax=1))\n",
    "            # sm.set_array([])\n",
    "            plt.style.use(\"dark_background\")\n",
    "            cbar = plt.colorbar( sm , ax=axs[0] , location='left' , aspect=12  )\n",
    "            cbar.ax.tick_params(labelsize=15)\n",
    "            cbar.set_label('Node Seiz Probability \\n' , fontsize = 20)\n",
    "            \n",
    "    \n",
    "            nc_before = nc\n",
    "            plt.savefig('images_rest/' + str(index) + '.png' , dpi=300)\n",
    "    "
   ]
  },
  {
   "cell_type": "markdown",
   "id": "10e87d7c-cdcf-4672-b681-b99528524350",
   "metadata": {},
   "source": [
    "## Make GIf\n"
   ]
  },
  {
   "cell_type": "code",
   "execution_count": 22,
   "id": "9a2c56f0-bf0f-4cda-b853-6db35f222e9f",
   "metadata": {},
   "outputs": [
    {
     "name": "stderr",
     "output_type": "stream",
     "text": [
      "100%|█████████████████████████████████████████| 200/200 [00:50<00:00,  3.98it/s]\n"
     ]
    }
   ],
   "source": [
    "import imageio\n",
    "import glob\n",
    "import cv2\n",
    "import tqdm\n",
    "\n",
    "frames = []\n",
    "\n",
    "for index in tqdm.tqdm(range(200)):\n",
    "    \n",
    "    img = plt.imread('images_rest/'+ str(index+1)+ '.png')\n",
    "    frames.append((255*img[:,:,0:3]).astype(np.uint8))\n",
    "  "
   ]
  },
  {
   "cell_type": "code",
   "execution_count": 23,
   "id": "c307d82c-0780-4b04-a171-cc357a7bc1a8",
   "metadata": {},
   "outputs": [
    {
     "name": "stderr",
     "output_type": "stream",
     "text": [
      "IMAGEIO FFMPEG_WRITER WARNING: input image is not divisible by macro_block_size=16, resizing from (4500, 1500) to (4512, 1504) to ensure video compatibility with most codecs and players. To prevent resizing, make your input image divisible by the macro_block_size or set the macro_block_size to 1 (risking incompatibility).\n",
      "[swscaler @ 0x680b480] Warning: data is not aligned! This can lead to a speed loss\n"
     ]
    }
   ],
   "source": [
    "import imageio\n",
    "imageio.mimsave('rest_egg_new.mp4', # output gif\n",
    "                frames,          # array of input frames\n",
    "                fps = 10) "
   ]
  },
  {
   "cell_type": "code",
   "execution_count": 20,
   "id": "bbb3d2dd-f0ac-4132-8a9c-b2aae4656b01",
   "metadata": {},
   "outputs": [
    {
     "data": {
      "text/plain": [
       "(19, 19)"
      ]
     },
     "execution_count": 20,
     "metadata": {},
     "output_type": "execute_result"
    }
   ],
   "source": [
    "import numpy as np\n",
    "import os\n",
    "import sys\n",
    "import pickle\n",
    "import graph_viz_utils\n",
    "from graph_viz_utils import get_spectral_graph_positions\n",
    "import networkx as nx\n",
    "import collections\n",
    "import matplotlib\n",
    "import matplotlib.pyplot as plt\n",
    "from scipy.stats import rankdata\n",
    "import pickle\n",
    "from graph_viz_utils import draw_graph_weighted_edge\n",
    "\n",
    "with open('adj_mx_3d.pkl', 'rb') as pf:\n",
    "    adj_mx_data = pickle.load(pf)\n",
    "\n",
    "adj_mx = adj_mx_data[2]\n",
    "adj_mx.shape"
   ]
  },
  {
   "cell_type": "code",
   "execution_count": 21,
   "id": "1305c51e-7158-46c2-81f6-a772c7ba1aa1",
   "metadata": {},
   "outputs": [],
   "source": [
    "def draw_graph_weighted_edge(\n",
    "        adj_mx,\n",
    "        node_id_dict,\n",
    "        pos_spec,\n",
    "        is_directed=True,\n",
    "        title='',\n",
    "        save_dir=None,\n",
    "        fig_size=(\n",
    "            12,\n",
    "            8),\n",
    "    node_color='Red',\n",
    "    font_size=20,\n",
    "        plot_colorbar=False):\n",
    "    \"\"\"\n",
    "    Draw a graph with weighted edges\n",
    "    Args:\n",
    "        adj_mx: Adjacency matrix for the graph, shape (num_nodes, num_nodes\n",
    "        node_id_dict: dict, key is node name, value is node index\n",
    "        pos_spec: Graph node position specs from function get_spectral_graph_positions\n",
    "        is_directed: If True, draw directed graphs\n",
    "        title: str, title of the figure\n",
    "        save_dir: Dir to save the plot\n",
    "        fig_size: figure size\n",
    "\n",
    "    \"\"\"\n",
    "    eeg_viz = nx.DiGraph() if is_directed else nx.Graph()\n",
    "    node_id_label = collections.defaultdict()\n",
    "\n",
    "    for i in range(adj_mx.shape[0]):\n",
    "        eeg_viz.add_node(i)\n",
    "\n",
    "    for k, v in node_id_dict.items():\n",
    "        node_id_label[v] = k\n",
    "\n",
    "    # Add edges\n",
    "    for i in range(adj_mx.shape[0]):\n",
    "        for j in range(adj_mx.shape[1]):  # since it's now directed\n",
    "            if i != j and adj_mx[i, j] > 0:\n",
    "                eeg_viz.add_edge(i, j, weight=adj_mx[i, j])\n",
    "\n",
    "    edges, weights = zip(*nx.get_edge_attributes(eeg_viz, 'weight').items())\n",
    "\n",
    "    # Change the color scales below\n",
    "    k = 3\n",
    "    cmap = plt.cm.binary(np.linspace(0, 1, (k + 1) * len(weights)))\n",
    "    cmap = matplotlib.colors.ListedColormap(cmap[len(weights):-1:(k - 1)])\n",
    "\n",
    "    cmap_node = plt.cm.cool(np.linspace(0, 1, (0 + 1) * 19))\n",
    "    cmap_node = matplotlib.colors.ListedColormap(cmap_node)\n",
    "\n",
    "    \n",
    "    # cmap_node = matplotlib.colors.ListedColormap(cmap_node[len(weights):-1:(k - 1)])\n",
    "\n",
    "    plt.figure(figsize=fig_size)\n",
    "    \n",
    "    nx.draw_networkx(eeg_viz, pos_spec, labels=node_id_label, with_labels=True,arrows=False,\n",
    "                     edgelist=edges, edge_color=rankdata(weights), \n",
    "                     width=3*fig_size[1] / 2, edge_cmap=cmap, font_weight='bold',\n",
    "                     node_color=node_color,\n",
    "                     cmap = cmap_node,\n",
    "                     node_size=250 * (fig_size[0] + fig_size[1]),\n",
    "                     font_color='white',\n",
    "                     font_size=font_size)\n",
    "    plt.title(title, fontsize=font_size)\n",
    "    plt.axis('off')\n",
    "    if plot_colorbar:\n",
    "        sm = plt.cm.ScalarMappable(\n",
    "            cmap=cmap, norm=plt.Normalize(\n",
    "                vmin=0, vmax=1))\n",
    "        sm.set_array([])\n",
    "        plt.colorbar(sm)\n",
    "    plt.tight_layout()\n",
    "    if save_dir is not None:\n",
    "        plt.savefig(save_dir, dpi=300 , transparent=True)\n",
    "\n",
    "    plt.show()\n"
   ]
  },
  {
   "cell_type": "code",
   "execution_count": 22,
   "id": "a809da30-71e9-43e9-846c-ae19169c39cb",
   "metadata": {},
   "outputs": [],
   "source": [
    "node_id_dict = {}\n",
    "for key, val in adj_mx_data[1].items():\n",
    "    key = key.split(' ')[-1]\n",
    "    node_id_dict[key] = val\n",
    "\n",
    "pos_spec = get_spectral_graph_positions()\n"
   ]
  },
  {
   "cell_type": "code",
   "execution_count": 14,
   "id": "0e5f42bc-1a7f-41c6-9d22-bc1cfebae698",
   "metadata": {},
   "outputs": [
    {
     "ename": "NameError",
     "evalue": "name 'ax' is not defined",
     "output_type": "error",
     "traceback": [
      "\u001b[0;31m---------------------------------------------------------------------------\u001b[0m",
      "\u001b[0;31mNameError\u001b[0m                                 Traceback (most recent call last)",
      "Cell \u001b[0;32mIn[14], line 14\u001b[0m\n\u001b[1;32m      5\u001b[0m cm \u001b[38;5;241m=\u001b[39m plt\u001b[38;5;241m.\u001b[39mcm\u001b[38;5;241m.\u001b[39mcool(np\u001b[38;5;241m.\u001b[39mlinspace(\u001b[38;5;241m0\u001b[39m, \u001b[38;5;241m1\u001b[39m, (k \u001b[38;5;241m+\u001b[39m \u001b[38;5;241m1\u001b[39m) \u001b[38;5;241m*\u001b[39m \u001b[38;5;241m100\u001b[39m))\n\u001b[1;32m      6\u001b[0m \u001b[38;5;66;03m# cm = LinearSegmentedColormap.from_list(\u001b[39;00m\n\u001b[1;32m      7\u001b[0m \u001b[38;5;66;03m#         \"Custom\", colors, N=20)\u001b[39;00m\n\u001b[1;32m      8\u001b[0m \n\u001b[1;32m      9\u001b[0m \u001b[38;5;66;03m#     print(x[19*s:19*(s+1),199])\u001b[39;00m\n\u001b[0;32m---> 14\u001b[0m draw_graph_weighted_edge(adj_mx, ax,\n\u001b[1;32m     15\u001b[0m         node_id_dict,\n\u001b[1;32m     16\u001b[0m         pos_spec,\n\u001b[1;32m     17\u001b[0m         is_directed\u001b[38;5;241m=\u001b[39m\u001b[38;5;28;01mTrue\u001b[39;00m,\n\u001b[1;32m     18\u001b[0m         title\u001b[38;5;241m=\u001b[39m\u001b[38;5;124m'\u001b[39m\u001b[38;5;124m'\u001b[39m,\n\u001b[1;32m     19\u001b[0m         save_dir\u001b[38;5;241m=\u001b[39m\u001b[38;5;124m'\u001b[39m\u001b[38;5;124mDesktop\u001b[39m\u001b[38;5;124m'\u001b[39m,\n\u001b[1;32m     20\u001b[0m         fig_size\u001b[38;5;241m=\u001b[39m(\n\u001b[1;32m     21\u001b[0m             \u001b[38;5;241m8\u001b[39m,\n\u001b[1;32m     22\u001b[0m             \u001b[38;5;241m8\u001b[39m),\n\u001b[1;32m     23\u001b[0m     node_color \u001b[38;5;241m=\u001b[39m torch\u001b[38;5;241m.\u001b[39msigmoid(model\u001b[38;5;241m.\u001b[39mfc(s_t))\u001b[38;5;241m.\u001b[39mcpu()\u001b[38;5;241m.\u001b[39mdetach()\u001b[38;5;241m.\u001b[39mnumpy()[\u001b[38;5;241m19\u001b[39m:\u001b[38;5;241m19\u001b[39m\u001b[38;5;241m*\u001b[39m\u001b[38;5;241m2\u001b[39m],\n\u001b[1;32m     24\u001b[0m     font_size\u001b[38;5;241m=\u001b[39m\u001b[38;5;241m20\u001b[39m,\n\u001b[1;32m     25\u001b[0m         plot_colorbar\u001b[38;5;241m=\u001b[39m\u001b[38;5;28;01mFalse\u001b[39;00m )\n\u001b[1;32m     27\u001b[0m k \u001b[38;5;241m=\u001b[39m \u001b[38;5;241m3\u001b[39m\n\u001b[1;32m     28\u001b[0m plt\u001b[38;5;241m.\u001b[39mcm\u001b[38;5;241m.\u001b[39mOranges(np\u001b[38;5;241m.\u001b[39mlinspace(\u001b[38;5;241m0\u001b[39m, \u001b[38;5;241m1\u001b[39m, (k \u001b[38;5;241m+\u001b[39m \u001b[38;5;241m1\u001b[39m) \u001b[38;5;241m*\u001b[39m \u001b[38;5;241m19\u001b[39m))\n",
      "\u001b[0;31mNameError\u001b[0m: name 'ax' is not defined"
     ]
    }
   ],
   "source": [
    "from matplotlib.colors import LinearSegmentedColormap\n",
    "\n",
    "k=3\n",
    "\n",
    "cm = plt.cm.cool(np.linspace(0, 1, (k + 1) * 100))\n",
    "# cm = LinearSegmentedColormap.from_list(\n",
    "#         \"Custom\", colors, N=20)\n",
    "\n",
    "#     print(x[19*s:19*(s+1),199])\n",
    "\n",
    "\n",
    "\n",
    "\n",
    "draw_graph_weighted_edge(adj_mx, ax,\n",
    "        node_id_dict,\n",
    "        pos_spec,\n",
    "        is_directed=True,\n",
    "        title='',\n",
    "        save_dir='Desktop',\n",
    "        fig_size=(\n",
    "            8,\n",
    "            8),\n",
    "    node_color = torch.sigmoid(model.fc(s_t)).cpu().detach().numpy()[19:19*2],\n",
    "    font_size=20,\n",
    "        plot_colorbar=False )\n",
    "\n",
    "k = 3\n",
    "plt.cm.Oranges(np.linspace(0, 1, (k + 1) * 19))\n",
    "cmap = plt.cm.Oranges(np.linspace(0, 1, 100 ))\n",
    "cmap = matplotlib.colors.ListedColormap(cmap[19:-1:(k - 1)])\n",
    "import matplotlib as mpl\n",
    "\n",
    "\n",
    "fig, ax = plt.subplots(figsize=(6, 1), layout='constrained')\n",
    "\n",
    "norm = mpl.colors.Normalize(vmin=5, vmax=10)\n",
    "plt.colorbar(mpl.cm.ScalarMappable(norm=norm, cmap=cmap) , cax=ax, orientation='horizontal', label='Some Units')\n"
   ]
  },
  {
   "cell_type": "code",
   "execution_count": 216,
   "id": "ccc1924a-45c8-4ed9-84a2-3bb066ad39c9",
   "metadata": {},
   "outputs": [],
   "source": [
    "signal = data.x[22,:,:].reshape(-1,1)\n",
    "from scipy.io import savemat\n",
    "import numpy as np\n",
    "mdic = {\"signal\": signal, \"label\": \"signal\"}\n",
    "\n",
    "savemat(\"data_eeg.mat\", mdic)"
   ]
  },
  {
   "cell_type": "code",
   "execution_count": 208,
   "id": "98ab2432-b19e-4104-92c0-8a001055a288",
   "metadata": {},
   "outputs": [
    {
     "name": "stderr",
     "output_type": "stream",
     "text": [
      "100%|███████████████████████████████████████| 1962/1962 [03:37<00:00,  9.01it/s]\n"
     ]
    }
   ],
   "source": [
    "import imageio\n",
    "import glob\n",
    "import cv2\n",
    "import tqdm\n",
    "\n",
    "frames = []\n",
    "\n",
    "for index in tqdm.tqdm(range(1962)):\n",
    "    \n",
    "    img = plt.imread('signal_electrode/'+ str(index)+ '.png')\n",
    "    frames.append((255*img[:,:,0:3]).astype(np.uint8))\n",
    "  "
   ]
  },
  {
   "cell_type": "code",
   "execution_count": 213,
   "id": "2f3cdc45-9688-4293-9ada-d4d9d349932f",
   "metadata": {},
   "outputs": [],
   "source": [
    "imageio.mimsave('rest_elecl_sig.gif', # output gif\n",
    "                frames,          # array of input frames\n",
    "                fps = 225) "
   ]
  },
  {
   "cell_type": "code",
   "execution_count": 17,
   "id": "dd261313-e242-40ab-89b4-5c312489daa0",
   "metadata": {},
   "outputs": [],
   "source": [
    "import matplotlib.pyplot as plt\n",
    "import numpy as np\n",
    "import matplotlib.pyplot as plt\n",
    "from matplotlib.patches import Rectangle\n",
    "from matplotlib.animation import FuncAnimation, writers\n",
    "import matplotlib.animation as animation\n",
    "import time as T"
   ]
  },
  {
   "cell_type": "code",
   "execution_count": 18,
   "id": "20a76bc5-745e-4c4a-a1cd-edd3f5bb134f",
   "metadata": {},
   "outputs": [
    {
     "data": {
      "text/plain": [
       "tensor([[9.9481e-01],\n",
       "        [2.2097e-01],\n",
       "        [1.8165e-01],\n",
       "        [4.0505e-01],\n",
       "        [2.2266e-01],\n",
       "        [8.7604e-01],\n",
       "        [9.3119e-01],\n",
       "        [5.0994e-02],\n",
       "        [9.2078e-01],\n",
       "        [5.3878e-02],\n",
       "        [8.7425e-01],\n",
       "        [9.9465e-01],\n",
       "        [2.1453e-01],\n",
       "        [9.8334e-01],\n",
       "        [9.8308e-01],\n",
       "        [9.7537e-01],\n",
       "        [3.6222e-02],\n",
       "        [9.8076e-01],\n",
       "        [9.9172e-01],\n",
       "        [1.2816e-01],\n",
       "        [9.2793e-01],\n",
       "        [9.1909e-01],\n",
       "        [2.9979e-01],\n",
       "        [1.2005e-01],\n",
       "        [1.7931e-02],\n",
       "        [9.2438e-01],\n",
       "        [9.1921e-02],\n",
       "        [1.8959e-01],\n",
       "        [7.4432e-02],\n",
       "        [9.9849e-01],\n",
       "        [4.8742e-01],\n",
       "        [8.3741e-01],\n",
       "        [9.3581e-01],\n",
       "        [6.5802e-01],\n",
       "        [1.1191e-01],\n",
       "        [6.7333e-01],\n",
       "        [9.8699e-01],\n",
       "        [6.2104e-02],\n",
       "        [9.4324e-01],\n",
       "        [5.3030e-01],\n",
       "        [6.3019e-01],\n",
       "        [8.1337e-01],\n",
       "        [5.4254e-02],\n",
       "        [9.7551e-01],\n",
       "        [1.2625e-01],\n",
       "        [9.8918e-01],\n",
       "        [9.7561e-01],\n",
       "        [9.6473e-01],\n",
       "        [9.6593e-01],\n",
       "        [2.3340e-02],\n",
       "        [1.4395e-02],\n",
       "        [2.1518e-01],\n",
       "        [3.1360e-01],\n",
       "        [9.4422e-01],\n",
       "        [9.9056e-01],\n",
       "        [4.7774e-01],\n",
       "        [9.9919e-01],\n",
       "        [6.3048e-01],\n",
       "        [9.7433e-01],\n",
       "        [8.1299e-01],\n",
       "        [9.7385e-01],\n",
       "        [1.5817e-02],\n",
       "        [4.5021e-01],\n",
       "        [9.5948e-01],\n",
       "        [6.5781e-01],\n",
       "        [9.2343e-01],\n",
       "        [4.2173e-01],\n",
       "        [9.7978e-01],\n",
       "        [7.3806e-01],\n",
       "        [8.8702e-01],\n",
       "        [1.6270e-02],\n",
       "        [5.1966e-02],\n",
       "        [9.6843e-01],\n",
       "        [9.8297e-01],\n",
       "        [8.9152e-02],\n",
       "        [2.6893e-01],\n",
       "        [9.8958e-01],\n",
       "        [1.4571e-01],\n",
       "        [2.2953e-01],\n",
       "        [9.9028e-01],\n",
       "        [1.1209e-01],\n",
       "        [8.7013e-01],\n",
       "        [7.3170e-01],\n",
       "        [9.9571e-01],\n",
       "        [8.2677e-03],\n",
       "        [9.2284e-01],\n",
       "        [1.4690e-01],\n",
       "        [2.4309e-01],\n",
       "        [3.7043e-02],\n",
       "        [1.5478e-01],\n",
       "        [1.5528e-01],\n",
       "        [5.8661e-01],\n",
       "        [9.2030e-01],\n",
       "        [8.7059e-01],\n",
       "        [1.4120e-01],\n",
       "        [9.7236e-01],\n",
       "        [9.5323e-01],\n",
       "        [3.9046e-02],\n",
       "        [5.0023e-03],\n",
       "        [9.6112e-01],\n",
       "        [8.1580e-01],\n",
       "        [7.7725e-01],\n",
       "        [9.3566e-02],\n",
       "        [2.7284e-02],\n",
       "        [5.0466e-02],\n",
       "        [9.7137e-01],\n",
       "        [6.1959e-03],\n",
       "        [9.4931e-01],\n",
       "        [7.3744e-01],\n",
       "        [5.1594e-02],\n",
       "        [2.8958e-01],\n",
       "        [8.8118e-01],\n",
       "        [4.3972e-02],\n",
       "        [9.9429e-01],\n",
       "        [6.0617e-01],\n",
       "        [8.9357e-01],\n",
       "        [5.5882e-02],\n",
       "        [3.5100e-02],\n",
       "        [2.4568e-02],\n",
       "        [4.2537e-01],\n",
       "        [4.3064e-01],\n",
       "        [9.5554e-01],\n",
       "        [4.1990e-01],\n",
       "        [9.3540e-01],\n",
       "        [5.1637e-02],\n",
       "        [1.6555e-01],\n",
       "        [3.9090e-01],\n",
       "        [2.4583e-01],\n",
       "        [1.2565e-01],\n",
       "        [6.3383e-01],\n",
       "        [9.4384e-01],\n",
       "        [4.1438e-03],\n",
       "        [2.3346e-02],\n",
       "        [7.6563e-01],\n",
       "        [8.5995e-01],\n",
       "        [9.3573e-01],\n",
       "        [9.8247e-01],\n",
       "        [7.9307e-02],\n",
       "        [5.0815e-02],\n",
       "        [9.6396e-01],\n",
       "        [4.6418e-01],\n",
       "        [9.8992e-01],\n",
       "        [3.9404e-02],\n",
       "        [2.4588e-02],\n",
       "        [9.3962e-01],\n",
       "        [2.1970e-02],\n",
       "        [7.9221e-01],\n",
       "        [6.8597e-02],\n",
       "        [4.8144e-02],\n",
       "        [8.3126e-02],\n",
       "        [3.6736e-02],\n",
       "        [9.5558e-01],\n",
       "        [9.4964e-02],\n",
       "        [1.8406e-02],\n",
       "        [9.6032e-01],\n",
       "        [9.9634e-01],\n",
       "        [6.1080e-02],\n",
       "        [9.9752e-01],\n",
       "        [9.8750e-01],\n",
       "        [1.7847e-01],\n",
       "        [3.2176e-03],\n",
       "        [8.0398e-01],\n",
       "        [9.8772e-01],\n",
       "        [1.0930e-02],\n",
       "        [9.1821e-01],\n",
       "        [3.1121e-02],\n",
       "        [9.7164e-01],\n",
       "        [6.3467e-02],\n",
       "        [2.5555e-01],\n",
       "        [6.8083e-03],\n",
       "        [9.9316e-01],\n",
       "        [1.3199e-02],\n",
       "        [7.7762e-03],\n",
       "        [8.6032e-01],\n",
       "        [4.6114e-01],\n",
       "        [2.0709e-01],\n",
       "        [6.2534e-01],\n",
       "        [9.9400e-01],\n",
       "        [2.1138e-02],\n",
       "        [9.5599e-01],\n",
       "        [9.9394e-01],\n",
       "        [2.4907e-01],\n",
       "        [5.8751e-02],\n",
       "        [2.5294e-02],\n",
       "        [1.4276e-01],\n",
       "        [1.0319e-01],\n",
       "        [9.8910e-01],\n",
       "        [9.7654e-01],\n",
       "        [4.0133e-02],\n",
       "        [1.2103e-02],\n",
       "        [4.7358e-03],\n",
       "        [4.5190e-02],\n",
       "        [1.1426e-01],\n",
       "        [3.7074e-01],\n",
       "        [9.2769e-01],\n",
       "        [3.7036e-01],\n",
       "        [6.2736e-01],\n",
       "        [9.6115e-01],\n",
       "        [9.9560e-01],\n",
       "        [9.0993e-01],\n",
       "        [2.5797e-02],\n",
       "        [9.9452e-01],\n",
       "        [2.0577e-02],\n",
       "        [5.5830e-02],\n",
       "        [3.3394e-01],\n",
       "        [9.8655e-01],\n",
       "        [5.6347e-02],\n",
       "        [1.7013e-01],\n",
       "        [4.7327e-02],\n",
       "        [6.1713e-02],\n",
       "        [5.9685e-01],\n",
       "        [3.4666e-02],\n",
       "        [1.5652e-01],\n",
       "        [2.9184e-01],\n",
       "        [9.8907e-01],\n",
       "        [7.1737e-03],\n",
       "        [5.8368e-01],\n",
       "        [8.9820e-01],\n",
       "        [2.0222e-02],\n",
       "        [9.3863e-01],\n",
       "        [5.2113e-01],\n",
       "        [1.4513e-01],\n",
       "        [9.5711e-01],\n",
       "        [7.6504e-01],\n",
       "        [1.1621e-02],\n",
       "        [9.1136e-02],\n",
       "        [9.5731e-01],\n",
       "        [8.7297e-02],\n",
       "        [8.3015e-01],\n",
       "        [4.9278e-01],\n",
       "        [9.5780e-01],\n",
       "        [9.3640e-01],\n",
       "        [3.3222e-01],\n",
       "        [6.6089e-01],\n",
       "        [9.3978e-01],\n",
       "        [9.9722e-01],\n",
       "        [2.4659e-01],\n",
       "        [1.2394e-01],\n",
       "        [3.2091e-02],\n",
       "        [9.0115e-01],\n",
       "        [2.1679e-01],\n",
       "        [5.4033e-02],\n",
       "        [8.4135e-01],\n",
       "        [4.9182e-01],\n",
       "        [9.6080e-01],\n",
       "        [1.3265e-01],\n",
       "        [9.0732e-01],\n",
       "        [2.5222e-01],\n",
       "        [7.3025e-02],\n",
       "        [9.8554e-01],\n",
       "        [9.7790e-01],\n",
       "        [7.1898e-02],\n",
       "        [9.6645e-01],\n",
       "        [8.5185e-01],\n",
       "        [2.1230e-02],\n",
       "        [9.5936e-01],\n",
       "        [8.3732e-02],\n",
       "        [9.7624e-01],\n",
       "        [3.7765e-02],\n",
       "        [3.0858e-02],\n",
       "        [4.8083e-02],\n",
       "        [7.9067e-03],\n",
       "        [9.2589e-01],\n",
       "        [3.4280e-02],\n",
       "        [8.2513e-01],\n",
       "        [2.9577e-02],\n",
       "        [2.3221e-02],\n",
       "        [1.8793e-01],\n",
       "        [3.8573e-01],\n",
       "        [1.1966e-02],\n",
       "        [6.0046e-03],\n",
       "        [2.1403e-01],\n",
       "        [9.9447e-01],\n",
       "        [9.4725e-01],\n",
       "        [7.7883e-03],\n",
       "        [9.9939e-01],\n",
       "        [1.5729e-01],\n",
       "        [1.0352e-01],\n",
       "        [4.8178e-01],\n",
       "        [6.1470e-03],\n",
       "        [7.8877e-01],\n",
       "        [1.3299e-01],\n",
       "        [9.8939e-01],\n",
       "        [3.0816e-02],\n",
       "        [8.3740e-02],\n",
       "        [5.0372e-01],\n",
       "        [9.7197e-01],\n",
       "        [1.8785e-01],\n",
       "        [1.3973e-02],\n",
       "        [9.9250e-01],\n",
       "        [1.1762e-01],\n",
       "        [3.2477e-01],\n",
       "        [9.9040e-01],\n",
       "        [4.1949e-02],\n",
       "        [8.2653e-03],\n",
       "        [1.5998e-01],\n",
       "        [9.9686e-01],\n",
       "        [9.9953e-01],\n",
       "        [9.9377e-01],\n",
       "        [9.2645e-01],\n",
       "        [3.4257e-02],\n",
       "        [5.1976e-03],\n",
       "        [6.1106e-01],\n",
       "        [1.1171e-02],\n",
       "        [6.7308e-01],\n",
       "        [9.9939e-01],\n",
       "        [4.1137e-02],\n",
       "        [9.3767e-01],\n",
       "        [6.4513e-02],\n",
       "        [9.9949e-01],\n",
       "        [9.7994e-01],\n",
       "        [2.6960e-01],\n",
       "        [9.7575e-01],\n",
       "        [1.1368e-02],\n",
       "        [5.6137e-02],\n",
       "        [8.6500e-01],\n",
       "        [9.3621e-01],\n",
       "        [9.8060e-01],\n",
       "        [1.8738e-01],\n",
       "        [9.6473e-01],\n",
       "        [7.0197e-01],\n",
       "        [9.8814e-01],\n",
       "        [9.6221e-01],\n",
       "        [3.7031e-02],\n",
       "        [3.0347e-01],\n",
       "        [2.8488e-01],\n",
       "        [2.5797e-02],\n",
       "        [2.5857e-02],\n",
       "        [4.8201e-02],\n",
       "        [7.9886e-01],\n",
       "        [1.8332e-01],\n",
       "        [1.2167e-01],\n",
       "        [9.7003e-01],\n",
       "        [7.8719e-01],\n",
       "        [2.0599e-02],\n",
       "        [9.4649e-03],\n",
       "        [7.0381e-02],\n",
       "        [7.9977e-01],\n",
       "        [5.2314e-01],\n",
       "        [3.9354e-02],\n",
       "        [3.4571e-02],\n",
       "        [3.0779e-02],\n",
       "        [2.5395e-01],\n",
       "        [1.2483e-01],\n",
       "        [9.7591e-01],\n",
       "        [9.6527e-01],\n",
       "        [3.4903e-03],\n",
       "        [9.8026e-01],\n",
       "        [2.9371e-02],\n",
       "        [1.4211e-01],\n",
       "        [1.8610e-01],\n",
       "        [4.2608e-02],\n",
       "        [1.4416e-02],\n",
       "        [9.9997e-01],\n",
       "        [8.3436e-01],\n",
       "        [9.9767e-01],\n",
       "        [9.8050e-01],\n",
       "        [8.4423e-01],\n",
       "        [7.7709e-01],\n",
       "        [9.9295e-01],\n",
       "        [1.4061e-03],\n",
       "        [1.4257e-02],\n",
       "        [2.9816e-02],\n",
       "        [9.2347e-01],\n",
       "        [1.4486e-02],\n",
       "        [8.4230e-02],\n",
       "        [2.4098e-01],\n",
       "        [2.8516e-01],\n",
       "        [4.0254e-01],\n",
       "        [5.2450e-02],\n",
       "        [9.9005e-01],\n",
       "        [9.0931e-01],\n",
       "        [1.0222e-02],\n",
       "        [2.2340e-02],\n",
       "        [9.4859e-01],\n",
       "        [9.6037e-01],\n",
       "        [2.6732e-01],\n",
       "        [3.1014e-01],\n",
       "        [9.9885e-01],\n",
       "        [3.5121e-01],\n",
       "        [3.7215e-03],\n",
       "        [3.5797e-02],\n",
       "        [7.5001e-03],\n",
       "        [8.0555e-01],\n",
       "        [6.1868e-01],\n",
       "        [2.7325e-01],\n",
       "        [4.2522e-01],\n",
       "        [9.7379e-01],\n",
       "        [2.2877e-02],\n",
       "        [5.5004e-01],\n",
       "        [6.8483e-01],\n",
       "        [4.5309e-01],\n",
       "        [1.4714e-01],\n",
       "        [2.2112e-02],\n",
       "        [1.0555e-01],\n",
       "        [5.4919e-01],\n",
       "        [1.4027e-01],\n",
       "        [9.9547e-01],\n",
       "        [1.7134e-01],\n",
       "        [7.3105e-01],\n",
       "        [1.3146e-01],\n",
       "        [9.5406e-01],\n",
       "        [9.5952e-01],\n",
       "        [9.9900e-01],\n",
       "        [8.3792e-01],\n",
       "        [1.1118e-01],\n",
       "        [2.0714e-01],\n",
       "        [3.8800e-02],\n",
       "        [3.3391e-02],\n",
       "        [2.2041e-01],\n",
       "        [8.8107e-01],\n",
       "        [9.9933e-01],\n",
       "        [4.1640e-02],\n",
       "        [1.9327e-02],\n",
       "        [7.7697e-01],\n",
       "        [9.8192e-01],\n",
       "        [9.5954e-01],\n",
       "        [9.9776e-01],\n",
       "        [8.4358e-01],\n",
       "        [7.3237e-01],\n",
       "        [9.7828e-03],\n",
       "        [5.8275e-01],\n",
       "        [8.1235e-02],\n",
       "        [5.1155e-02],\n",
       "        [9.9972e-01],\n",
       "        [3.4936e-01],\n",
       "        [2.0081e-01],\n",
       "        [4.3208e-01],\n",
       "        [4.2098e-01],\n",
       "        [4.6601e-02],\n",
       "        [1.5452e-01],\n",
       "        [2.5103e-01],\n",
       "        [6.5439e-01],\n",
       "        [9.6767e-01],\n",
       "        [1.8095e-02],\n",
       "        [2.6190e-02],\n",
       "        [3.7924e-01],\n",
       "        [8.1391e-01],\n",
       "        [1.4616e-01],\n",
       "        [1.5065e-02],\n",
       "        [6.2235e-02],\n",
       "        [5.1246e-01],\n",
       "        [1.3965e-02],\n",
       "        [9.9254e-01],\n",
       "        [1.4770e-02],\n",
       "        [1.3326e-01],\n",
       "        [9.5104e-03],\n",
       "        [3.7691e-01],\n",
       "        [9.9795e-01],\n",
       "        [8.3409e-01],\n",
       "        [9.3212e-01],\n",
       "        [8.9242e-01],\n",
       "        [2.8291e-01],\n",
       "        [1.0656e-02],\n",
       "        [1.9525e-01],\n",
       "        [3.2419e-02],\n",
       "        [8.5662e-01],\n",
       "        [4.8146e-02],\n",
       "        [2.3098e-02],\n",
       "        [1.5201e-02],\n",
       "        [1.4873e-02],\n",
       "        [3.6067e-01],\n",
       "        [5.5381e-01],\n",
       "        [9.1168e-01],\n",
       "        [4.8509e-01],\n",
       "        [8.7623e-02],\n",
       "        [8.9138e-03],\n",
       "        [7.3095e-02],\n",
       "        [9.9730e-01],\n",
       "        [6.5256e-02],\n",
       "        [4.9324e-02],\n",
       "        [1.2657e-01],\n",
       "        [6.7915e-01],\n",
       "        [1.0844e-01],\n",
       "        [8.9410e-03],\n",
       "        [1.1082e-01],\n",
       "        [1.9756e-01],\n",
       "        [9.8340e-01],\n",
       "        [6.9038e-05],\n",
       "        [9.9033e-01],\n",
       "        [8.9656e-01],\n",
       "        [7.0508e-01],\n",
       "        [3.2927e-01],\n",
       "        [6.6970e-01],\n",
       "        [9.9764e-01],\n",
       "        [1.0309e-01],\n",
       "        [1.9271e-01],\n",
       "        [9.8962e-01],\n",
       "        [9.6938e-01],\n",
       "        [3.8349e-02],\n",
       "        [1.5704e-01],\n",
       "        [9.6206e-01],\n",
       "        [2.1027e-01],\n",
       "        [1.2345e-01],\n",
       "        [6.9633e-02],\n",
       "        [6.6020e-01],\n",
       "        [1.6946e-02],\n",
       "        [9.9622e-01],\n",
       "        [3.1640e-02],\n",
       "        [4.7955e-02],\n",
       "        [6.9128e-01],\n",
       "        [1.9268e-01],\n",
       "        [1.3495e-01],\n",
       "        [3.4439e-01],\n",
       "        [9.5354e-01],\n",
       "        [3.1360e-01],\n",
       "        [1.0319e-01],\n",
       "        [9.8938e-01],\n",
       "        [2.1897e-01],\n",
       "        [7.0601e-02],\n",
       "        [9.0434e-01],\n",
       "        [9.2772e-01],\n",
       "        [9.9870e-01],\n",
       "        [9.9995e-01],\n",
       "        [9.6096e-01],\n",
       "        [1.6661e-02],\n",
       "        [4.5948e-01],\n",
       "        [5.0866e-01],\n",
       "        [9.3639e-01],\n",
       "        [4.2697e-01],\n",
       "        [6.5308e-02],\n",
       "        [9.6339e-01],\n",
       "        [9.1994e-01],\n",
       "        [1.4372e-01],\n",
       "        [1.6893e-01],\n",
       "        [2.8197e-01],\n",
       "        [5.6380e-01],\n",
       "        [3.0971e-02],\n",
       "        [8.8604e-01]], device='cuda:0', grad_fn=<SigmoidBackward0>)"
      ]
     },
     "execution_count": 18,
     "metadata": {},
     "output_type": "execute_result"
    }
   ],
   "source": [
    "data.x.shape\n",
    "out = model.to('cuda')(data.to('cuda'))\n",
    "out = global_mean_pool (out , data.batch)\n",
    "torch.sigmoid(out.reshape(-1,1)) "
   ]
  },
  {
   "cell_type": "code",
   "execution_count": 31,
   "id": "34229dcd-d1fd-40ab-9098-389d0d152155",
   "metadata": {},
   "outputs": [],
   "source": [
    "def draw_graph_weighted_edge(\n",
    "        adj_mx,\n",
    "        ax,\n",
    "        node_id_dict,\n",
    "        pos_spec,\n",
    "        is_directed=True,\n",
    "        title='',\n",
    "        save_dir=None,\n",
    "        fig_size=(\n",
    "            12,\n",
    "            8),\n",
    "    node_color='Red',\n",
    "    font_size=20,\n",
    "        plot_colorbar=False):\n",
    "    \"\"\"\n",
    "    Draw a graph with weighted edges\n",
    "    Args:\n",
    "        adj_mx: Adjacency matrix for the graph, shape (num_nodes, num_nodes\n",
    "        node_id_dict: dict, key is node name, value is node index\n",
    "        pos_spec: Graph node position specs from function get_spectral_graph_positions\n",
    "        is_directed: If True, draw directed graphs\n",
    "        title: str, title of the figure\n",
    "        save_dir: Dir to save the plot\n",
    "        fig_size: figure size\n",
    "\n",
    "    \"\"\"\n",
    "    eeg_viz = nx.DiGraph() if is_directed else nx.Graph()\n",
    "    node_id_label = collections.defaultdict()\n",
    "\n",
    "    for i in range(adj_mx.shape[0]):\n",
    "        eeg_viz.add_node(i)\n",
    "\n",
    "    for k, v in node_id_dict.items():\n",
    "        node_id_label[v] = k\n",
    "\n",
    "    # Add edges\n",
    "    for i in range(adj_mx.shape[0]):\n",
    "        for j in range(adj_mx.shape[1]):  # since it's now directed\n",
    "            if i != j and adj_mx[i, j] > 0:\n",
    "                eeg_viz.add_edge(i, j, weight=adj_mx[i, j])\n",
    "\n",
    "    edges, weights = zip(*nx.get_edge_attributes(eeg_viz, 'weight').items())\n",
    "\n",
    "    # Change the color scales below\n",
    "    k = 3\n",
    "    cmap = plt.cm.binary(np.linspace(-2, 1, (k + 1) * len(weights)))\n",
    "    cmap = matplotlib.colors.ListedColormap(cmap[len(weights):-1:(k - 1)])\n",
    "\n",
    "    cmap_node = plt.cm.cool(np.linspace(0, 1, (0 + 1) * 19))\n",
    "    cmap_node = matplotlib.colors.ListedColormap(cmap_node)\n",
    "\n",
    "    \n",
    "    # cmap_node = matplotlib.colors.ListedColormap(cmap_node[len(weights):-1:(k - 1)])\n",
    "\n",
    "    \n",
    "    \n",
    "    nx.draw_networkx(eeg_viz, pos_spec, labels=node_id_label, with_labels=True,arrows=False,ax=ax,\n",
    "                     edgelist=edges, edge_color=rankdata(weights), \n",
    "                     width=3*fig_size[1] / 2, edge_cmap=cmap, font_weight='bold',\n",
    "                     node_color=node_color,\n",
    "                     cmap = cmap_node,\n",
    "                     node_size=250 * (fig_size[0] + fig_size[1]),\n",
    "                     font_color='white',\n",
    "                     font_size=font_size)\n",
    "    ax.set_title(title, fontsize=font_size)\n",
    "    # plt.axis('off')\n",
    "    if plot_colorbar:\n",
    "        sm = plt.cm.ScalarMappable(\n",
    "            cmap=cmap, norm=plt.Normalize(\n",
    "                vmin=0, vmax=1))\n",
    "        sm.set_array([])\n",
    "        plt.colorbar(sm , ax)\n",
    "    plt.tight_layout()\n",
    "    if save_dir is not None:\n",
    "        plt.savefig(save_dir, dpi=300 , transparent=True)\n",
    "\n",
    "    # plt.show()\n"
   ]
  },
  {
   "cell_type": "code",
   "execution_count": 49,
   "id": "ec1b2954-d2ca-40a9-a6fd-536a1210ce87",
   "metadata": {},
   "outputs": [
    {
     "data": {
      "image/png": "[encoded data removed]",
      "text/plain": [
       "<Figure size 1500x500 with 3 Axes>"
      ]
     },
     "metadata": {},
     "output_type": "display_data"
    }
   ],
   "source": [
    "from matplotlib.colors import LinearSegmentedColormap\n",
    "\n",
    "signal = sio.loadmat('signal_eeg.mat')['signal'][19:2*19,:]\n",
    "\n",
    "signal = signal+ 0.0004*np.arange(0,19).reshape(-1,1)\n",
    "\n",
    "signal = signal.T\n",
    "\n",
    "k=3\n",
    "fig, axs = plt.subplots(1, 2, gridspec_kw={'width_ratios': [2, 3]} , figsize=(15,5) , facecolor='w')\n",
    "\n",
    "cm = plt.cm.cool(np.linspace(0, 1, (k + 1) * 100))\n",
    "\n",
    "gt = np.zeros(signal.shape)\n",
    "gt[1400:2000,:] = 1\n",
    "seiz = [float('nan') if x==0 else x for x in np.ravel(gt*signal) ]\n",
    "seiz = np.array(seiz).reshape(2000,19)\n",
    "\n",
    "\n",
    "draw_graph_weighted_edge(adj_mx, axs[0],\n",
    "        node_id_dict,\n",
    "        pos_spec,\n",
    "        is_directed=True,\n",
    "        title='',\n",
    "        save_dir='Desktop',\n",
    "        fig_size=(\n",
    "            3,\n",
    "            3),\n",
    "    node_color = torch.sigmoid(model.fc(s_t)).cpu().detach().numpy()[19:19*2],\n",
    "    font_size=15,\n",
    "        plot_colorbar=False )\n",
    "\n",
    "label = np.ones((1,19))\n",
    "axs[1].plot(signal, lw=2 , color = 'cyan' , label = ['Normal',None,None,None,None,None,None,None,None,None,None,None,None,None,None,None,None,None,None])\n",
    "axs[1].plot(seiz , lw=2 , color = pink , label = ['Seizure',None,None,None,None,None,None,None,None,None,None,None,None,None,None,None,None,None,None])\n",
    "\n",
    "axs[1].legend(fontsize=15 , loc = 4)\n",
    "\n",
    "axs[1].axis('off')\n",
    "\n",
    "axs[0].axis('off')\n",
    "\n",
    "cmap = plt.cm.cool(np.linspace(0, 1, (0 + 1) * 190))\n",
    "cmap = matplotlib.colors.ListedColormap(cmap)\n",
    "\n",
    "sm = plt.cm.ScalarMappable(\n",
    "            cmap=cmap, norm=plt.Normalize(\n",
    "                vmin=0, vmax=1))\n",
    "# sm.set_array([])\n",
    "# plt.style.use(\"dark_background\")\n",
    "cbar = plt.colorbar( sm , ax=axs[0] , location='left' , aspect=12  )\n",
    "cbar.ax.tick_params(labelsize=15 , color = 'k' )\n",
    "plt.setp(plt.getp(cbar.ax.axes, 'yticklabels'), color='k')\n",
    "cbar.set_label('Node Seizure Probability \\n' , fontsize = 20 , color = 'k')\n"
   ]
  },
  {
   "cell_type": "code",
   "execution_count": 74,
   "id": "2e0b4b74-f58e-4511-80cd-de2d11a3e076",
   "metadata": {},
   "outputs": [
    {
     "data": {
      "text/plain": [
       "((2000, 19), (2000, 19), (2000, 19), (2000, 19))"
      ]
     },
     "execution_count": 74,
     "metadata": {},
     "output_type": "execute_result"
    }
   ],
   "source": [
    "signal.shape , gt.shape , (gt*signal).shape , np.array(seiz).reshape(2000,19).shape"
   ]
  }
 ],
 "metadata": {
  "kernelspec": {
   "display_name": "Python 3 (ipykernel)",
   "language": "python",
   "name": "python3"
  },
  "language_info": {
   "codemirror_mode": {
    "name": "ipython",
    "version": 3
   },
   "file_extension": ".py",
   "mimetype": "text/x-python",
   "name": "python",
   "nbconvert_exporter": "python",
   "pygments_lexer": "ipython3",
   "version": "3.12.4"
  }
 },
 "nbformat": 4,
 "nbformat_minor": 5
}
